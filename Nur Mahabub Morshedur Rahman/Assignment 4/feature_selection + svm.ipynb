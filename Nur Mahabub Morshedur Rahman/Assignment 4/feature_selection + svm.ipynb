{
  "nbformat": 4,
  "nbformat_minor": 0,
  "metadata": {
    "colab": {
      "name": "Feature_selection.ipynb",
      "provenance": [],
      "collapsed_sections": []
    },
    "kernelspec": {
      "name": "python3",
      "display_name": "Python 3"
    }
  },
  "cells": [
    {
      "cell_type": "code",
      "metadata": {
        "id": "ofCqsrkrl9Xg"
      },
      "source": [
        "from sklearn.model_selection import train_test_split\n",
        "import numpy as np\n",
        "from sklearn.svm import SVC\n",
        "from sklearn.metrics import accuracy_score\n",
        "from sklearn.model_selection import KFold\n",
        "from sklearn.ensemble import RandomForestClassifier\n",
        "from sklearn.feature_selection import SelectKBest, chi2\n",
        "from sklearn.feature_selection import RFE"
      ],
      "execution_count": 15,
      "outputs": []
    },
    {
      "cell_type": "code",
      "metadata": {
        "id": "zvdBaBwS4rkY",
        "outputId": "ccab5928-0375-4af2-deb2-6faabd9d48d6",
        "colab": {
          "base_uri": "https://localhost:8080/",
          "height": 34
        }
      },
      "source": [
        "from google.colab import drive\n",
        "drive.mount('/content/drive')"
      ],
      "execution_count": 16,
      "outputs": [
        {
          "output_type": "stream",
          "text": [
            "Drive already mounted at /content/drive; to attempt to forcibly remount, call drive.mount(\"/content/drive\", force_remount=True).\n"
          ],
          "name": "stdout"
        }
      ]
    },
    {
      "cell_type": "code",
      "metadata": {
        "id": "MmZAg1ZCoDYL"
      },
      "source": [
        "def datasetLoad(posFile, negFile):\n",
        "  x_train = np.concatenate((np.load(posFile), np.load(negFile)), axis = 0)\n",
        "\n",
        "  return x_train\n"
      ],
      "execution_count": 17,
      "outputs": []
    },
    {
      "cell_type": "code",
      "metadata": {
        "id": "4mkxgyNfmr65"
      },
      "source": [
        "#location\n",
        "kmer_nac_x = datasetLoad(\"/content/drive/My Drive/npy File All/positive 5289/Kmer 1.npy\",\"/content/drive/My Drive/npy File All/negative 5289/Kmer 1.npy\")\n",
        "kmer_dnc_x = datasetLoad(\"/content/drive/My Drive/npy File All/positive 5289/Kmer 2.npy\",\"/content/drive/My Drive/npy File All/negative 5289/Kmer 2.npy\")\n",
        "kmer_tnc_x = datasetLoad(\"/content/drive/My Drive/npy File All/positive 5289/Kmer 3.npy\",\"/content/drive/My Drive/npy File All/negative 5289/Kmer 3.npy\")\n",
        "enac_x = datasetLoad(\"/content/drive/My Drive/npy File All/positive 5289/ENAC 5.npy\",\"/content/drive/My Drive/npy File All/negative 5289/ENAC 5.npy\")\n",
        "pseknc_x = datasetLoad(\"/content/drive/My Drive/npy File All/positive 5289/PseKNC.npy\",\"/content/drive/My Drive/npy File All/negative 5289/PseKNC.npy\") \n",
        "pcpsednc_x = datasetLoad(\"/content/drive/My Drive/npy File All/positive 5289/PCPseDNC.npy\",\"/content/drive/My Drive/npy File All/negative 5289/PCPseDNC.npy\") \n",
        "\n",
        "y_train = np.concatenate((np.tile(1, 5289), np.tile(0, 5289)))"
      ],
      "execution_count": 18,
      "outputs": []
    },
    {
      "cell_type": "code",
      "metadata": {
        "id": "hbBf0bycsnbN",
        "outputId": "7684420a-7ccc-46c0-e857-cb4f071c33bc",
        "colab": {
          "base_uri": "https://localhost:8080/",
          "height": 136
        }
      },
      "source": [
        "print(kmer_nac_x.shape)\n",
        "print(kmer_dnc_x.shape)\n",
        "print(kmer_tnc_x.shape)\n",
        "print(enac_x.shape)\n",
        "print(pseknc_x.shape)\n",
        "print(pcpsednc_x.shape)\n",
        "print(y_train.shape)"
      ],
      "execution_count": 19,
      "outputs": [
        {
          "output_type": "stream",
          "text": [
            "(10578, 4)\n",
            "(10578, 16)\n",
            "(10578, 64)\n",
            "(10578, 148)\n",
            "(10578, 66)\n",
            "(10578, 18)\n",
            "(10578,)\n"
          ],
          "name": "stdout"
        }
      ]
    },
    {
      "cell_type": "code",
      "metadata": {
        "id": "dHspH6ECuepk",
        "outputId": "b6e199b4-10cf-45f4-a5b8-458daefe599b",
        "colab": {
          "base_uri": "https://localhost:8080/",
          "height": 34
        }
      },
      "source": [
        "x_train = np.concatenate((kmer_nac_x, kmer_dnc_x), axis = 1)\n",
        "x_train = np.concatenate((x_train, kmer_tnc_x), axis = 1)\n",
        "x_train = np.concatenate((x_train, enac_x), axis = 1)\n",
        "x_train = np.concatenate((x_train, pseknc_x), axis = 1)\n",
        "x_train = np.concatenate((x_train, pcpsednc_x), axis = 1)\n",
        "\n",
        "print(x_train.shape)"
      ],
      "execution_count": 20,
      "outputs": [
        {
          "output_type": "stream",
          "text": [
            "(10578, 316)\n"
          ],
          "name": "stdout"
        }
      ]
    },
    {
      "cell_type": "code",
      "metadata": {
        "id": "NWnk9aBc0mZg"
      },
      "source": [
        "feature_group_64 = {\n",
        "    \"nac\": 0,\n",
        "    \"dnc\": 0,\n",
        "    \"tnc\": 0,\n",
        "    \"enac\": 0,\n",
        "    \"pseknc\": 0,\n",
        "    \"pcpsednc\": 0\n",
        "}\n",
        "feature_group_32 = {\n",
        "    \"nac\": 0,\n",
        "    \"dnc\": 0,\n",
        "    \"tnc\": 0,\n",
        "    \"enac\": 0,\n",
        "    \"pseknc\": 0,\n",
        "    \"pcpsednc\": 0\n",
        "}"
      ],
      "execution_count": 21,
      "outputs": []
    },
    {
      "cell_type": "code",
      "metadata": {
        "id": "MCn3NOcqvYsn",
        "outputId": "1c76b261-d899-430e-8c38-28ea4bae3954",
        "colab": {
          "base_uri": "https://localhost:8080/",
          "height": 119
        }
      },
      "source": [
        "#64 feature\n",
        "X_64_best= SelectKBest(chi2, k=64).fit(x_train, y_train)\n",
        "mask = X_64_best.get_support()\n",
        "\n",
        "count = 0\n",
        "for x in mask:\n",
        "  if x:\n",
        "    if count >= 0 and count <= 3:\n",
        "      feature_group_64[\"nac\"] = feature_group_64[\"nac\"] + 1\n",
        "    elif count >= 4 and count <= 19:\n",
        "      feature_group_64[\"dnc\"] = feature_group_64[\"dnc\"] + 1\n",
        "    elif count >= 20 and count <= 83:\n",
        "      feature_group_64[\"tnc\"] = feature_group_64[\"tnc\"] + 1\n",
        "    elif count >= 84 and count <= 231:\n",
        "      feature_group_64[\"enac\"] = feature_group_64[\"enac\"] + 1\n",
        "    elif count >= 232 and count <= 297:\n",
        "      feature_group_64[\"pseknc\"] = feature_group_64[\"pseknc\"] + 1\n",
        "    elif count >= 298 and count <= 315:\n",
        "      feature_group_64[\"pcpsednc\"] = feature_group_64[\"pcpsednc\"] + 1\n",
        "  count = count + 1\n",
        "\n",
        "\n",
        "sorted_feature_group_64 = sorted(feature_group_64.items(), key=lambda x: x[1], reverse=True)\n",
        "\n",
        "for i in sorted_feature_group_64:\n",
        "  print(i)\n"
      ],
      "execution_count": 22,
      "outputs": [
        {
          "output_type": "stream",
          "text": [
            "('tnc', 21)\n",
            "('pseknc', 16)\n",
            "('enac', 12)\n",
            "('dnc', 7)\n",
            "('pcpsednc', 7)\n",
            "('nac', 1)\n"
          ],
          "name": "stdout"
        }
      ]
    },
    {
      "cell_type": "code",
      "metadata": {
        "id": "fWk_QnyB9es-",
        "outputId": "bb2b59d0-5aba-4251-d100-ca65ecc90749",
        "colab": {
          "base_uri": "https://localhost:8080/",
          "height": 119
        }
      },
      "source": [
        "#32 feature \n",
        "X_32_best= SelectKBest(chi2, k=32).fit(x_train, y_train)\n",
        "mask = X_32_best.get_support()\n",
        "\n",
        "count = 0\n",
        "for x in mask:\n",
        "  if x:\n",
        "    if count >= 0 and count <= 3:\n",
        "      feature_group_32[\"nac\"] = feature_group_32[\"nac\"] + 1\n",
        "    elif count >= 4 and count <= 19:\n",
        "      feature_group_32[\"dnc\"] = feature_group_32[\"dnc\"] + 1\n",
        "    elif count >= 20 and count <= 83:\n",
        "      feature_group_32[\"tnc\"] = feature_group_32[\"tnc\"] + 1\n",
        "    elif count >= 84 and count <= 231:\n",
        "      feature_group_32[\"enac\"] = feature_group_32[\"enac\"] + 1\n",
        "    elif count >= 232 and count <= 297:\n",
        "      feature_group_32[\"pseknc\"] = feature_group_32[\"pseknc\"] + 1\n",
        "    elif count >= 298 and count <= 315:\n",
        "      feature_group_32[\"pcpsednc\"] = feature_group_32[\"pcpsednc\"] + 1\n",
        "  count = count + 1\n",
        "\n",
        "#print(feature_group_32)\n",
        "sorted_feature_group_32 = sorted(feature_group_32.items(), key=lambda x: x[1], reverse=True)\n",
        "#print(sorted_feature_group_32)\n",
        "for i in sorted_feature_group_32:\n",
        "  print(i)\n"
      ],
      "execution_count": 23,
      "outputs": [
        {
          "output_type": "stream",
          "text": [
            "('enac', 9)\n",
            "('tnc', 8)\n",
            "('pseknc', 7)\n",
            "('dnc', 4)\n",
            "('pcpsednc', 4)\n",
            "('nac', 0)\n"
          ],
          "name": "stdout"
        }
      ]
    },
    {
      "cell_type": "code",
      "metadata": {
        "id": "lD3MobO8Cndf",
        "outputId": "1e1a12d7-1004-40c0-8f16-711282c71e2d",
        "colab": {
          "base_uri": "https://localhost:8080/",
          "height": 51
        }
      },
      "source": [
        "#part 2\n",
        "x_train = np.concatenate((kmer_tnc_x, pseknc_x), axis = 1)\n",
        "print(x_train.shape)\n",
        "print(y_train.shape)"
      ],
      "execution_count": 24,
      "outputs": [
        {
          "output_type": "stream",
          "text": [
            "(10578, 130)\n",
            "(10578,)\n"
          ],
          "name": "stdout"
        }
      ]
    },
    {
      "cell_type": "code",
      "metadata": {
        "id": "AHGdDGnwDSzq"
      },
      "source": [
        "feature_group_44 = {\n",
        "    \"tnc\": 0,\n",
        "    \"pseknc\": 0\n",
        "}\n",
        "feature_group_16 = {\n",
        "    \"tnc\": 0,\n",
        "    \"pseknc\": 0\n",
        "}\n",
        "feature_group_12 = {\n",
        "    \"tnc\": 0,\n",
        "    \"pseknc\": 0\n",
        "}"
      ],
      "execution_count": 25,
      "outputs": []
    },
    {
      "cell_type": "code",
      "metadata": {
        "id": "voVZJYmX3c6_",
        "outputId": "ae48b007-4b2a-46f5-b0f8-71c86f8a07a2",
        "colab": {
          "base_uri": "https://localhost:8080/",
          "height": 51
        }
      },
      "source": [
        "#28 feature \n",
        "estimator = RandomForestClassifier(random_state = 42)\n",
        "selector = RFE(estimator, 44, step=1)\n",
        "selector = selector.fit(x_train, y_train)\n",
        "rfe_mask = selector.get_support() #list of booleans for selected\n",
        "\n",
        "\n",
        "arr1 =[]\n",
        "arr2 =[]\n",
        "count = 0\n",
        "for x in rfe_mask:\n",
        "  if x:\n",
        "    if count >= 0 and count <= 63:\n",
        "      feature_group_44[\"tnc\"] = feature_group_44[\"tnc\"] + 1\n",
        "      #print(x)\n",
        "      arr1.append(count)\n",
        "    elif count >= 64 and count <= 129:\n",
        "      feature_group_44[\"pseknc\"] = feature_group_44[\"pseknc\"] + 1\n",
        "      arr2.append(count)\n",
        "  count = count + 1\n",
        "\n",
        "print(feature_group_44)\n",
        "sorted_feature_group_44 = sorted(feature_group_44.items(), key=lambda x: x[1], reverse=True)\n",
        "print(sorted_feature_group_44)\n",
        "#print(arr1,'\\n',arr2)"
      ],
      "execution_count": 26,
      "outputs": [
        {
          "output_type": "stream",
          "text": [
            "{'tnc': 23, 'pseknc': 21}\n",
            "[('tnc', 23), ('pseknc', 21)]\n"
          ],
          "name": "stdout"
        }
      ]
    },
    {
      "cell_type": "code",
      "metadata": {
        "id": "LbcWd-Ln_1DX",
        "outputId": "60c3f2e6-99bc-42e0-830d-2c4966ef4013",
        "colab": {
          "base_uri": "https://localhost:8080/",
          "height": 51
        }
      },
      "source": [
        "#16 feature \n",
        "estimator = RandomForestClassifier(random_state = 42)\n",
        "selector = RFE(estimator, 16, step=1)\n",
        "selector = selector.fit(x_train, y_train)\n",
        "rfe_mask = selector.get_support() #list of booleans for selected\n",
        "\n",
        "count = 0\n",
        "for x in rfe_mask:\n",
        "  if x:\n",
        "    if count >= 0 and count <= 65:\n",
        "      feature_group_16[\"pseknc\"] = feature_group_16[\"pseknc\"] + 1\n",
        "    elif count >= 66 and count <= 83:\n",
        "      feature_group_16[\"pcpsednc\"] = feature_group_16[\"pcpsednc\"] + 1\n",
        "  count = count + 1\n",
        "\n",
        "print(feature_group_16)\n",
        "sorted_feature_group_16 = sorted(feature_group_16.items(), key=lambda x: x[1], reverse=True)\n",
        "print(sorted_feature_group_16)"
      ],
      "execution_count": null,
      "outputs": [
        {
          "output_type": "stream",
          "text": [
            "{'pseknc': 11, 'pcpsednc': 5}\n",
            "[('pseknc', 11), ('pcpsednc', 5)]\n"
          ],
          "name": "stdout"
        }
      ]
    },
    {
      "cell_type": "code",
      "metadata": {
        "id": "kg3JaQ1cEgn3",
        "outputId": "25e46dba-93c2-4971-c877-e77c6c300af4",
        "colab": {
          "base_uri": "https://localhost:8080/",
          "height": 51
        }
      },
      "source": [
        "#12 feature \n",
        "estimator = RandomForestClassifier(random_state = 42)\n",
        "selector = RFE(estimator, 12, step=1)\n",
        "selector = selector.fit(x_train, y_train)\n",
        "rfe_mask = selector.get_support() #list of booleans for selected\n",
        "\n",
        "count = 0\n",
        "for x in rfe_mask:\n",
        "  if x:\n",
        "    if count >= 0 and count <= 65:\n",
        "      feature_group_12[\"pseknc\"] = feature_group_12[\"pseknc\"] + 1\n",
        "    elif count >= 66 and count <= 83:\n",
        "      feature_group_12[\"pcpsednc\"] = feature_group_12[\"pcpsednc\"] + 1\n",
        "  count = count + 1\n",
        "\n",
        "print(feature_group_12)\n",
        "sorted_feature_group_12 = sorted(feature_group_12.items(), key=lambda x: x[1], reverse=True)\n",
        "print(sorted_feature_group_12)"
      ],
      "execution_count": null,
      "outputs": [
        {
          "output_type": "stream",
          "text": [
            "{'pseknc': 8, 'pcpsednc': 4}\n",
            "[('pseknc', 8), ('pcpsednc', 4)]\n"
          ],
          "name": "stdout"
        }
      ]
    },
    {
      "cell_type": "code",
      "metadata": {
        "id": "_ZJFRQjvD46g",
        "outputId": "2633d711-676a-4ce5-8475-a6587b2ae68a",
        "colab": {
          "base_uri": "https://localhost:8080/",
          "height": 204
        }
      },
      "source": [
        "#SVM cross validation\n",
        "\n",
        "x_train =pseknc_x\n",
        "x_test = datasetLoad(\"/content/drive/My Drive/npy File All/positive 5289/PseKNC.npy\", \"/content/drive/My Drive/npy File All/negative 5289/PseKNC.npy\")\n",
        "print(x_test)\n",
        "y_test = np.concatenate((np.tile(1, 5289), np.tile(1, 5289)))\n",
        "\n",
        "print(x_train.shape)\n",
        "print(y_train.shape)\n",
        "print(x_test.shape)\n",
        "print(y_test.shape)\n"
      ],
      "execution_count": 27,
      "outputs": [
        {
          "output_type": "stream",
          "text": [
            "[[0.         0.         0.         ... 0.70128421 0.18145461 0.26031037]\n",
            " [0.         0.         0.         ... 0.53658254 0.09725188 0.17105845]\n",
            " [0.         0.         0.4865679  ... 0.         0.22981686 0.27482245]\n",
            " ...\n",
            " [0.         0.52174178 0.11727713 ... 0.         0.29982455 0.25865951]\n",
            " [0.         0.16980248 0.22900922 ... 0.         0.39920247 0.21083936]\n",
            " [0.3755807  0.18565346 0.25038713 ... 0.11897301 0.21776931 0.18726563]]\n",
            "(10578, 66)\n",
            "(10578,)\n",
            "(10578, 66)\n",
            "(10578,)\n"
          ],
          "name": "stdout"
        }
      ]
    },
    {
      "cell_type": "code",
      "metadata": {
        "id": "3Ta6j5zfFc7x"
      },
      "source": [
        "seed = 40\n",
        "np.random.seed(seed)\n",
        "#elm\n",
        "kf = KFold(n_splits=5, random_state=seed, shuffle=True)"
      ],
      "execution_count": 28,
      "outputs": []
    },
    {
      "cell_type": "code",
      "metadata": {
        "id": "cPzg3XV5Fq5z",
        "outputId": "f397e02c-1efc-4894-a693-67d2f8dc6765",
        "colab": {
          "base_uri": "https://localhost:8080/",
          "height": 1000
        }
      },
      "source": [
        "test_avg_list = []\n",
        "\n",
        "for c in range(1,1000,50):\n",
        "  test_avg = 0\n",
        "\n",
        "  print(f'for c = {c}:')\n",
        "\n",
        "  clf = SVC(C=c,  random_state = seed)\n",
        "  val_accuracy_list = []\n",
        "  train_accuracy_list = []\n",
        "  test_accuracy_list = []\n",
        "\n",
        "  for train_index, val_index in kf.split(x_train):\n",
        "\n",
        "    X_train, X_val = x_train[train_index], x_train[val_index]\n",
        "    Y_train, Y_val = y_train[train_index], y_train[val_index]\n",
        "    \n",
        "    clf.fit(X_train, Y_train)\n",
        "\n",
        "    y_val_pred = clf.predict(X_val)\n",
        "    val_accuracy = accuracy_score(Y_val, y_val_pred)\n",
        "    val_accuracy_list.append(val_accuracy)\n",
        "\n",
        "    y_train_pred = clf.predict(X_train)\n",
        "    train_accuracy = accuracy_score(Y_train, y_train_pred)\n",
        "    train_accuracy_list.append(train_accuracy)\n",
        "\n",
        "    y_test_pred = clf.predict(x_test)\n",
        "    test_accuracy = accuracy_score(y_test, y_test_pred)\n",
        "    test_avg = test_avg + test_accuracy\n",
        "    test_accuracy_list.append(test_accuracy)\n",
        "\n",
        "  test_avg = test_avg/(len(test_accuracy_list))\n",
        "  test_avg_list.append(test_avg)\n",
        "\n",
        "  for i in range(0, len(train_accuracy_list)):\n",
        "    print(\"train_accuracy : \", train_accuracy_list[i], \"\\tVal accuracy : \", val_accuracy_list[i], \"\\tTest accuracy : \", test_accuracy_list[i])\n",
        "  print(f'Avg test accuracy for that c is = {test_avg}')\n",
        "  print()"
      ],
      "execution_count": 29,
      "outputs": [
        {
          "output_type": "stream",
          "text": [
            "for c = 1:\n",
            "train_accuracy :  0.9994091231387379 \tVal accuracy :  0.9933837429111532 \tTest accuracy :  0.4999054641709208\n",
            "train_accuracy :  0.9991727723942331 \tVal accuracy :  0.9924385633270322 \tTest accuracy :  0.4999054641709208\n",
            "train_accuracy :  0.9989364216497282 \tVal accuracy :  0.9938563327032136 \tTest accuracy :  0.5\n",
            "train_accuracy :  0.99940919295758 \tVal accuracy :  0.9914893617021276 \tTest accuracy :  0.4993382491964454\n",
            "train_accuracy :  0.9989365473236441 \tVal accuracy :  0.9914893617021276 \tTest accuracy :  0.5002836074872377\n",
            "Avg test accuracy for that c is = 0.49988655700510504\n",
            "\n",
            "for c = 51:\n",
            "train_accuracy :  1.0 \tVal accuracy :  0.9933837429111532 \tTest accuracy :  0.5\n",
            "train_accuracy :  1.0 \tVal accuracy :  0.995274102079395 \tTest accuracy :  0.49962185668368314\n",
            "train_accuracy :  1.0 \tVal accuracy :  0.9938563327032136 \tTest accuracy :  0.5000945358290793\n",
            "train_accuracy :  1.0 \tVal accuracy :  0.9929078014184397 \tTest accuracy :  0.4993382491964454\n",
            "train_accuracy :  1.0 \tVal accuracy :  0.9929078014184397 \tTest accuracy :  0.5002836074872377\n",
            "Avg test accuracy for that c is = 0.4998676498392891\n",
            "\n",
            "for c = 101:\n",
            "train_accuracy :  1.0 \tVal accuracy :  0.9933837429111532 \tTest accuracy :  0.5\n",
            "train_accuracy :  1.0 \tVal accuracy :  0.995274102079395 \tTest accuracy :  0.49962185668368314\n",
            "train_accuracy :  1.0 \tVal accuracy :  0.9938563327032136 \tTest accuracy :  0.5000945358290793\n",
            "train_accuracy :  1.0 \tVal accuracy :  0.9929078014184397 \tTest accuracy :  0.4993382491964454\n",
            "train_accuracy :  1.0 \tVal accuracy :  0.9929078014184397 \tTest accuracy :  0.5002836074872377\n",
            "Avg test accuracy for that c is = 0.4998676498392891\n",
            "\n",
            "for c = 151:\n",
            "train_accuracy :  1.0 \tVal accuracy :  0.9933837429111532 \tTest accuracy :  0.5\n",
            "train_accuracy :  1.0 \tVal accuracy :  0.995274102079395 \tTest accuracy :  0.49962185668368314\n",
            "train_accuracy :  1.0 \tVal accuracy :  0.9938563327032136 \tTest accuracy :  0.5000945358290793\n",
            "train_accuracy :  1.0 \tVal accuracy :  0.9929078014184397 \tTest accuracy :  0.4993382491964454\n",
            "train_accuracy :  1.0 \tVal accuracy :  0.9929078014184397 \tTest accuracy :  0.5002836074872377\n",
            "Avg test accuracy for that c is = 0.4998676498392891\n",
            "\n",
            "for c = 201:\n",
            "train_accuracy :  1.0 \tVal accuracy :  0.9933837429111532 \tTest accuracy :  0.5\n",
            "train_accuracy :  1.0 \tVal accuracy :  0.995274102079395 \tTest accuracy :  0.49962185668368314\n",
            "train_accuracy :  1.0 \tVal accuracy :  0.9938563327032136 \tTest accuracy :  0.5000945358290793\n",
            "train_accuracy :  1.0 \tVal accuracy :  0.9929078014184397 \tTest accuracy :  0.4993382491964454\n",
            "train_accuracy :  1.0 \tVal accuracy :  0.9929078014184397 \tTest accuracy :  0.5002836074872377\n",
            "Avg test accuracy for that c is = 0.4998676498392891\n",
            "\n",
            "for c = 251:\n",
            "train_accuracy :  1.0 \tVal accuracy :  0.9933837429111532 \tTest accuracy :  0.5\n",
            "train_accuracy :  1.0 \tVal accuracy :  0.995274102079395 \tTest accuracy :  0.49962185668368314\n",
            "train_accuracy :  1.0 \tVal accuracy :  0.9938563327032136 \tTest accuracy :  0.5000945358290793\n",
            "train_accuracy :  1.0 \tVal accuracy :  0.9929078014184397 \tTest accuracy :  0.4993382491964454\n",
            "train_accuracy :  1.0 \tVal accuracy :  0.9929078014184397 \tTest accuracy :  0.5002836074872377\n",
            "Avg test accuracy for that c is = 0.4998676498392891\n",
            "\n",
            "for c = 301:\n",
            "train_accuracy :  1.0 \tVal accuracy :  0.9933837429111532 \tTest accuracy :  0.5\n",
            "train_accuracy :  1.0 \tVal accuracy :  0.995274102079395 \tTest accuracy :  0.49962185668368314\n",
            "train_accuracy :  1.0 \tVal accuracy :  0.9938563327032136 \tTest accuracy :  0.5000945358290793\n",
            "train_accuracy :  1.0 \tVal accuracy :  0.9929078014184397 \tTest accuracy :  0.4993382491964454\n",
            "train_accuracy :  1.0 \tVal accuracy :  0.9929078014184397 \tTest accuracy :  0.5002836074872377\n",
            "Avg test accuracy for that c is = 0.4998676498392891\n",
            "\n",
            "for c = 351:\n",
            "train_accuracy :  1.0 \tVal accuracy :  0.9933837429111532 \tTest accuracy :  0.5\n",
            "train_accuracy :  1.0 \tVal accuracy :  0.995274102079395 \tTest accuracy :  0.49962185668368314\n",
            "train_accuracy :  1.0 \tVal accuracy :  0.9938563327032136 \tTest accuracy :  0.5000945358290793\n",
            "train_accuracy :  1.0 \tVal accuracy :  0.9929078014184397 \tTest accuracy :  0.4993382491964454\n",
            "train_accuracy :  1.0 \tVal accuracy :  0.9929078014184397 \tTest accuracy :  0.5002836074872377\n",
            "Avg test accuracy for that c is = 0.4998676498392891\n",
            "\n",
            "for c = 401:\n",
            "train_accuracy :  1.0 \tVal accuracy :  0.9933837429111532 \tTest accuracy :  0.5\n",
            "train_accuracy :  1.0 \tVal accuracy :  0.995274102079395 \tTest accuracy :  0.49962185668368314\n",
            "train_accuracy :  1.0 \tVal accuracy :  0.9938563327032136 \tTest accuracy :  0.5000945358290793\n",
            "train_accuracy :  1.0 \tVal accuracy :  0.9929078014184397 \tTest accuracy :  0.4993382491964454\n",
            "train_accuracy :  1.0 \tVal accuracy :  0.9929078014184397 \tTest accuracy :  0.5002836074872377\n",
            "Avg test accuracy for that c is = 0.4998676498392891\n",
            "\n",
            "for c = 451:\n",
            "train_accuracy :  1.0 \tVal accuracy :  0.9933837429111532 \tTest accuracy :  0.5\n",
            "train_accuracy :  1.0 \tVal accuracy :  0.995274102079395 \tTest accuracy :  0.49962185668368314\n",
            "train_accuracy :  1.0 \tVal accuracy :  0.9938563327032136 \tTest accuracy :  0.5000945358290793\n",
            "train_accuracy :  1.0 \tVal accuracy :  0.9929078014184397 \tTest accuracy :  0.4993382491964454\n",
            "train_accuracy :  1.0 \tVal accuracy :  0.9929078014184397 \tTest accuracy :  0.5002836074872377\n",
            "Avg test accuracy for that c is = 0.4998676498392891\n",
            "\n",
            "for c = 501:\n",
            "train_accuracy :  1.0 \tVal accuracy :  0.9933837429111532 \tTest accuracy :  0.5\n",
            "train_accuracy :  1.0 \tVal accuracy :  0.995274102079395 \tTest accuracy :  0.49962185668368314\n",
            "train_accuracy :  1.0 \tVal accuracy :  0.9938563327032136 \tTest accuracy :  0.5000945358290793\n",
            "train_accuracy :  1.0 \tVal accuracy :  0.9929078014184397 \tTest accuracy :  0.4993382491964454\n",
            "train_accuracy :  1.0 \tVal accuracy :  0.9929078014184397 \tTest accuracy :  0.5002836074872377\n",
            "Avg test accuracy for that c is = 0.4998676498392891\n",
            "\n",
            "for c = 551:\n",
            "train_accuracy :  1.0 \tVal accuracy :  0.9933837429111532 \tTest accuracy :  0.5\n",
            "train_accuracy :  1.0 \tVal accuracy :  0.995274102079395 \tTest accuracy :  0.49962185668368314\n",
            "train_accuracy :  1.0 \tVal accuracy :  0.9938563327032136 \tTest accuracy :  0.5000945358290793\n",
            "train_accuracy :  1.0 \tVal accuracy :  0.9929078014184397 \tTest accuracy :  0.4993382491964454\n",
            "train_accuracy :  1.0 \tVal accuracy :  0.9929078014184397 \tTest accuracy :  0.5002836074872377\n",
            "Avg test accuracy for that c is = 0.4998676498392891\n",
            "\n",
            "for c = 601:\n",
            "train_accuracy :  1.0 \tVal accuracy :  0.9933837429111532 \tTest accuracy :  0.5\n",
            "train_accuracy :  1.0 \tVal accuracy :  0.995274102079395 \tTest accuracy :  0.49962185668368314\n",
            "train_accuracy :  1.0 \tVal accuracy :  0.9938563327032136 \tTest accuracy :  0.5000945358290793\n",
            "train_accuracy :  1.0 \tVal accuracy :  0.9929078014184397 \tTest accuracy :  0.4993382491964454\n",
            "train_accuracy :  1.0 \tVal accuracy :  0.9929078014184397 \tTest accuracy :  0.5002836074872377\n",
            "Avg test accuracy for that c is = 0.4998676498392891\n",
            "\n",
            "for c = 651:\n",
            "train_accuracy :  1.0 \tVal accuracy :  0.9933837429111532 \tTest accuracy :  0.5\n",
            "train_accuracy :  1.0 \tVal accuracy :  0.995274102079395 \tTest accuracy :  0.49962185668368314\n",
            "train_accuracy :  1.0 \tVal accuracy :  0.9938563327032136 \tTest accuracy :  0.5000945358290793\n",
            "train_accuracy :  1.0 \tVal accuracy :  0.9929078014184397 \tTest accuracy :  0.4993382491964454\n",
            "train_accuracy :  1.0 \tVal accuracy :  0.9929078014184397 \tTest accuracy :  0.5002836074872377\n",
            "Avg test accuracy for that c is = 0.4998676498392891\n",
            "\n",
            "for c = 701:\n",
            "train_accuracy :  1.0 \tVal accuracy :  0.9933837429111532 \tTest accuracy :  0.5\n",
            "train_accuracy :  1.0 \tVal accuracy :  0.995274102079395 \tTest accuracy :  0.49962185668368314\n",
            "train_accuracy :  1.0 \tVal accuracy :  0.9938563327032136 \tTest accuracy :  0.5000945358290793\n",
            "train_accuracy :  1.0 \tVal accuracy :  0.9929078014184397 \tTest accuracy :  0.4993382491964454\n",
            "train_accuracy :  1.0 \tVal accuracy :  0.9929078014184397 \tTest accuracy :  0.5002836074872377\n",
            "Avg test accuracy for that c is = 0.4998676498392891\n",
            "\n",
            "for c = 751:\n",
            "train_accuracy :  1.0 \tVal accuracy :  0.9933837429111532 \tTest accuracy :  0.5\n",
            "train_accuracy :  1.0 \tVal accuracy :  0.995274102079395 \tTest accuracy :  0.49962185668368314\n",
            "train_accuracy :  1.0 \tVal accuracy :  0.9938563327032136 \tTest accuracy :  0.5000945358290793\n",
            "train_accuracy :  1.0 \tVal accuracy :  0.9929078014184397 \tTest accuracy :  0.4993382491964454\n",
            "train_accuracy :  1.0 \tVal accuracy :  0.9929078014184397 \tTest accuracy :  0.5002836074872377\n",
            "Avg test accuracy for that c is = 0.4998676498392891\n",
            "\n",
            "for c = 801:\n",
            "train_accuracy :  1.0 \tVal accuracy :  0.9933837429111532 \tTest accuracy :  0.5\n",
            "train_accuracy :  1.0 \tVal accuracy :  0.995274102079395 \tTest accuracy :  0.49962185668368314\n",
            "train_accuracy :  1.0 \tVal accuracy :  0.9938563327032136 \tTest accuracy :  0.5000945358290793\n",
            "train_accuracy :  1.0 \tVal accuracy :  0.9929078014184397 \tTest accuracy :  0.4993382491964454\n",
            "train_accuracy :  1.0 \tVal accuracy :  0.9929078014184397 \tTest accuracy :  0.5002836074872377\n",
            "Avg test accuracy for that c is = 0.4998676498392891\n",
            "\n",
            "for c = 851:\n",
            "train_accuracy :  1.0 \tVal accuracy :  0.9933837429111532 \tTest accuracy :  0.5\n",
            "train_accuracy :  1.0 \tVal accuracy :  0.995274102079395 \tTest accuracy :  0.49962185668368314\n",
            "train_accuracy :  1.0 \tVal accuracy :  0.9938563327032136 \tTest accuracy :  0.5000945358290793\n",
            "train_accuracy :  1.0 \tVal accuracy :  0.9929078014184397 \tTest accuracy :  0.4993382491964454\n",
            "train_accuracy :  1.0 \tVal accuracy :  0.9929078014184397 \tTest accuracy :  0.5002836074872377\n",
            "Avg test accuracy for that c is = 0.4998676498392891\n",
            "\n",
            "for c = 901:\n",
            "train_accuracy :  1.0 \tVal accuracy :  0.9933837429111532 \tTest accuracy :  0.5\n",
            "train_accuracy :  1.0 \tVal accuracy :  0.995274102079395 \tTest accuracy :  0.49962185668368314\n",
            "train_accuracy :  1.0 \tVal accuracy :  0.9938563327032136 \tTest accuracy :  0.5000945358290793\n",
            "train_accuracy :  1.0 \tVal accuracy :  0.9929078014184397 \tTest accuracy :  0.4993382491964454\n",
            "train_accuracy :  1.0 \tVal accuracy :  0.9929078014184397 \tTest accuracy :  0.5002836074872377\n",
            "Avg test accuracy for that c is = 0.4998676498392891\n",
            "\n",
            "for c = 951:\n",
            "train_accuracy :  1.0 \tVal accuracy :  0.9933837429111532 \tTest accuracy :  0.5\n",
            "train_accuracy :  1.0 \tVal accuracy :  0.995274102079395 \tTest accuracy :  0.49962185668368314\n",
            "train_accuracy :  1.0 \tVal accuracy :  0.9938563327032136 \tTest accuracy :  0.5000945358290793\n",
            "train_accuracy :  1.0 \tVal accuracy :  0.9929078014184397 \tTest accuracy :  0.4993382491964454\n",
            "train_accuracy :  1.0 \tVal accuracy :  0.9929078014184397 \tTest accuracy :  0.5002836074872377\n",
            "Avg test accuracy for that c is = 0.4998676498392891\n",
            "\n"
          ],
          "name": "stdout"
        }
      ]
    }
  ]
}