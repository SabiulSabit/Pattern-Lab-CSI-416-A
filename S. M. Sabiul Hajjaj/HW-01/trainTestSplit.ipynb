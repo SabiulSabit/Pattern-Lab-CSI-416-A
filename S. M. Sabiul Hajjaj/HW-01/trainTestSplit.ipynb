{
  "nbformat": 4,
  "nbformat_minor": 0,
  "metadata": {
    "colab": {
      "name": "trainTestSplit.ipynb",
      "provenance": [],
      "collapsed_sections": []
    },
    "kernelspec": {
      "name": "python3",
      "display_name": "Python 3"
    }
  },
  "cells": [
    {
      "cell_type": "code",
      "metadata": {
        "id": "yag_WZIfnfRY",
        "colab_type": "code",
        "colab": {
          "base_uri": "https://localhost:8080/",
          "height": 34
        },
        "outputId": "8cae9deb-5ca8-46ef-87de-5426b2d8f0ee"
      },
      "source": [
        "from google.colab import drive\n",
        "drive.mount('/content/drive')"
      ],
      "execution_count": 38,
      "outputs": [
        {
          "output_type": "stream",
          "text": [
            "Drive already mounted at /content/drive; to attempt to forcibly remount, call drive.mount(\"/content/drive\", force_remount=True).\n"
          ],
          "name": "stdout"
        }
      ]
    },
    {
      "cell_type": "code",
      "metadata": {
        "id": "xcg-c9ezGOHr",
        "colab_type": "code",
        "colab": {}
      },
      "source": [
        "from sklearn.model_selection import train_test_split\n",
        "import numpy as np"
      ],
      "execution_count": 39,
      "outputs": []
    },
    {
      "cell_type": "code",
      "metadata": {
        "id": "wROFsPwdNRI5",
        "colab_type": "code",
        "colab": {}
      },
      "source": [
        "from sklearn.svm import SVC"
      ],
      "execution_count": 40,
      "outputs": []
    },
    {
      "cell_type": "code",
      "metadata": {
        "id": "SkYWCRv0Oyiv",
        "colab_type": "code",
        "colab": {}
      },
      "source": [
        "from sklearn.metrics import accuracy_score"
      ],
      "execution_count": 41,
      "outputs": []
    },
    {
      "cell_type": "code",
      "metadata": {
        "id": "VCZnwzteUht2",
        "colab_type": "code",
        "colab": {}
      },
      "source": [
        "from sklearn.model_selection import KFold"
      ],
      "execution_count": 42,
      "outputs": []
    },
    {
      "cell_type": "code",
      "metadata": {
        "id": "Bkibhn2DD9hU",
        "colab_type": "code",
        "colab": {}
      },
      "source": [
        "\n",
        "pos_5289 = \"/content/drive/My Drive/npy File All/A.thaliana5289_pos.fasta-ENAC-Len-5.npy\"\n",
        "neg_5289 = \"/content/drive/My Drive/npy File All/A.thaliana5289_neg.fasta-ENAC-Len-5.npy\"\n",
        "pos_1000 = \"/content/drive/My Drive/npy File All/A.thaliana1000indep_pos-ENAC-Len-5.npy\"\n",
        "neg_1000 = \"/content/drive/My Drive/npy File All/A.thaliana1000indep_neg.fasta-ENAC-5.npy\"\n",
        "\n",
        "x_train_pos = np.load(pos_5289) \n",
        "x_train_neg = np.load(neg_5289) \n",
        "x_test_pos = np.load(pos_1000) \n",
        "x_test_neg = np.load(neg_1000) \n",
        "\n",
        "y_train_pos = np.tile(1, 5289) \n",
        "y_train_neg = np.tile(0, 5289) \n",
        "y_test_pos = np.tile(1, 1000) \n",
        "y_test_neg = np.tile(0, 1000) "
      ],
      "execution_count": 43,
      "outputs": []
    },
    {
      "cell_type": "code",
      "metadata": {
        "id": "H84h5ZubMHuZ",
        "colab_type": "code",
        "colab": {
          "base_uri": "https://localhost:8080/",
          "height": 85
        },
        "outputId": "77a89938-b343-4de4-f7d4-5e87b0c7a10c"
      },
      "source": [
        "print(x_test_neg.shape)\n",
        "print(y_test_neg.shape)\n",
        "\n",
        "print(x_train_pos.shape)\n",
        "print(y_train_pos.shape)\n"
      ],
      "execution_count": 44,
      "outputs": [
        {
          "output_type": "stream",
          "text": [
            "(1000, 148)\n",
            "(1000,)\n",
            "(5289, 148)\n",
            "(5289,)\n"
          ],
          "name": "stdout"
        }
      ]
    },
    {
      "cell_type": "code",
      "metadata": {
        "id": "4woF7AbhG2D5",
        "colab_type": "code",
        "colab": {}
      },
      "source": [
        "seed = 40\n",
        "np.random.seed(seed)"
      ],
      "execution_count": 45,
      "outputs": []
    },
    {
      "cell_type": "code",
      "metadata": {
        "id": "QZe5KoMRG7SB",
        "colab_type": "code",
        "colab": {}
      },
      "source": [
        "x_training_pos, x_val_pos, y_training_pos, y_val_pos = train_test_split(x_train_pos, y_train_pos, test_size=0.20, random_state=seed)\n",
        "\n",
        "x_training_neg, x_val_neg, y_training_neg, y_val_neg = train_test_split(x_train_neg, y_train_neg, test_size=0.20, random_state=seed)"
      ],
      "execution_count": 46,
      "outputs": []
    },
    {
      "cell_type": "code",
      "metadata": {
        "id": "ntffsHktH09w",
        "colab_type": "code",
        "colab": {
          "base_uri": "https://localhost:8080/",
          "height": 51
        },
        "outputId": "a1fd5d81-1e84-4476-aaa9-4e3625df76be"
      },
      "source": [
        "print(x_training_pos.shape)\n",
        "print(x_val_pos.shape)"
      ],
      "execution_count": 47,
      "outputs": [
        {
          "output_type": "stream",
          "text": [
            "(4231, 148)\n",
            "(1058, 148)\n"
          ],
          "name": "stdout"
        }
      ]
    },
    {
      "cell_type": "code",
      "metadata": {
        "id": "Rxp25B0pIt5S",
        "colab_type": "code",
        "colab": {}
      },
      "source": [
        "x_training = np.concatenate((x_training_pos, x_training_neg), axis= 0)\n",
        "y_training = np.concatenate((y_training_pos, y_training_neg))\n",
        "\n",
        "x_val = np.concatenate((x_val_pos, x_val_neg), axis=  0)\n",
        "y_val = np.concatenate((y_val_pos, y_val_neg))"
      ],
      "execution_count": 48,
      "outputs": []
    },
    {
      "cell_type": "code",
      "metadata": {
        "id": "5SlGQaZ0QtwH",
        "colab_type": "code",
        "colab": {}
      },
      "source": [
        "x_test = np.concatenate((x_test_pos, x_test_neg))\n",
        "y_test = np.concatenate((y_test_pos, y_test_neg))"
      ],
      "execution_count": 49,
      "outputs": []
    },
    {
      "cell_type": "code",
      "metadata": {
        "id": "AFWq8oQ9Q8pr",
        "colab_type": "code",
        "colab": {
          "base_uri": "https://localhost:8080/",
          "height": 51
        },
        "outputId": "23d7e8d2-9d4e-45c6-cf07-cb78649ceb8d"
      },
      "source": [
        "print(x_test.shape)\n",
        "print(y_test.shape)"
      ],
      "execution_count": 50,
      "outputs": [
        {
          "output_type": "stream",
          "text": [
            "(2000, 148)\n",
            "(2000,)\n"
          ],
          "name": "stdout"
        }
      ]
    },
    {
      "cell_type": "code",
      "metadata": {
        "id": "r2lmmmO7JotB",
        "colab_type": "code",
        "colab": {
          "base_uri": "https://localhost:8080/",
          "height": 34
        },
        "outputId": "5f8bf65d-719f-43ef-b720-399c0b5ae9ee"
      },
      "source": [
        "print(x_training.shape)"
      ],
      "execution_count": 51,
      "outputs": [
        {
          "output_type": "stream",
          "text": [
            "(8462, 148)\n"
          ],
          "name": "stdout"
        }
      ]
    },
    {
      "cell_type": "code",
      "metadata": {
        "id": "Go6uzAqVNTdH",
        "colab_type": "code",
        "colab": {}
      },
      "source": [
        "c = 5\n",
        "clf = SVC(C=c,  random_state = seed)"
      ],
      "execution_count": 52,
      "outputs": []
    },
    {
      "cell_type": "code",
      "metadata": {
        "id": "obO51Y9tNcsA",
        "colab_type": "code",
        "colab": {
          "base_uri": "https://localhost:8080/",
          "height": 85
        },
        "outputId": "d74dc7a3-1f97-4f02-a036-26b3d8846cda"
      },
      "source": [
        "clf.fit(x_training, y_training)"
      ],
      "execution_count": 53,
      "outputs": [
        {
          "output_type": "execute_result",
          "data": {
            "text/plain": [
              "SVC(C=5, break_ties=False, cache_size=200, class_weight=None, coef0=0.0,\n",
              "    decision_function_shape='ovr', degree=3, gamma='scale', kernel='rbf',\n",
              "    max_iter=-1, probability=False, random_state=40, shrinking=True, tol=0.001,\n",
              "    verbose=False)"
            ]
          },
          "metadata": {
            "tags": []
          },
          "execution_count": 53
        }
      ]
    },
    {
      "cell_type": "code",
      "metadata": {
        "id": "5xv9ghAvOgh4",
        "colab_type": "code",
        "colab": {}
      },
      "source": [
        "y_val_pred = clf.predict(x_val)\n"
      ],
      "execution_count": 54,
      "outputs": []
    },
    {
      "cell_type": "code",
      "metadata": {
        "id": "shNz9yEaPNGf",
        "colab_type": "code",
        "colab": {
          "base_uri": "https://localhost:8080/",
          "height": 51
        },
        "outputId": "6a868af5-d2ae-4577-818f-ae28ee02c0a7"
      },
      "source": [
        "print(y_val_pred.shape)\n",
        "print(y_val.shape)"
      ],
      "execution_count": 55,
      "outputs": [
        {
          "output_type": "stream",
          "text": [
            "(2116,)\n",
            "(2116,)\n"
          ],
          "name": "stdout"
        }
      ]
    },
    {
      "cell_type": "code",
      "metadata": {
        "id": "pcMOgzoDO5r_",
        "colab_type": "code",
        "colab": {}
      },
      "source": [
        "val_accuracy = accuracy_score(y_val, y_val_pred)"
      ],
      "execution_count": 56,
      "outputs": []
    },
    {
      "cell_type": "code",
      "metadata": {
        "id": "GyG2T6qZPpmf",
        "colab_type": "code",
        "colab": {
          "base_uri": "https://localhost:8080/",
          "height": 34
        },
        "outputId": "c6a7551c-de55-4bb4-cdfd-c57fe97e84f8"
      },
      "source": [
        "print(val_accuracy)"
      ],
      "execution_count": 57,
      "outputs": [
        {
          "output_type": "stream",
          "text": [
            "0.9560491493383743\n"
          ],
          "name": "stdout"
        }
      ]
    },
    {
      "cell_type": "code",
      "metadata": {
        "id": "zEJRfUrGQhVI",
        "colab_type": "code",
        "colab": {}
      },
      "source": [
        "y_test_pred = clf.predict(x_test)"
      ],
      "execution_count": 58,
      "outputs": []
    },
    {
      "cell_type": "code",
      "metadata": {
        "id": "M6GxGrRnRFI-",
        "colab_type": "code",
        "colab": {}
      },
      "source": [
        "test_accuracy = accuracy_score(y_test, y_test_pred)"
      ],
      "execution_count": 60,
      "outputs": []
    },
    {
      "cell_type": "code",
      "metadata": {
        "id": "Gz6OtoGZRQhX",
        "colab_type": "code",
        "colab": {
          "base_uri": "https://localhost:8080/",
          "height": 34
        },
        "outputId": "03a3b1aa-cfee-4c11-d12e-e296a3ee80fd"
      },
      "source": [
        "print(test_accuracy)"
      ],
      "execution_count": 61,
      "outputs": [
        {
          "output_type": "stream",
          "text": [
            "0.616\n"
          ],
          "name": "stdout"
        }
      ]
    },
    {
      "cell_type": "code",
      "metadata": {
        "id": "Hv4IO7F5RmOT",
        "colab_type": "code",
        "colab": {}
      },
      "source": [
        "y_train_pred = clf.predict(x_training)"
      ],
      "execution_count": 62,
      "outputs": []
    },
    {
      "cell_type": "code",
      "metadata": {
        "id": "YHmPW2dhRvfX",
        "colab_type": "code",
        "colab": {}
      },
      "source": [
        "train_accuracy = accuracy_score(y_training, y_train_pred)"
      ],
      "execution_count": 63,
      "outputs": []
    },
    {
      "cell_type": "code",
      "metadata": {
        "id": "zwpMwXKIR2cn",
        "colab_type": "code",
        "colab": {
          "base_uri": "https://localhost:8080/",
          "height": 34
        },
        "outputId": "2d7fc628-decc-4274-89ce-e83330b0660e"
      },
      "source": [
        "print(train_accuracy)"
      ],
      "execution_count": 64,
      "outputs": [
        {
          "output_type": "stream",
          "text": [
            "0.9998818246277476\n"
          ],
          "name": "stdout"
        }
      ]
    },
    {
      "cell_type": "code",
      "metadata": {
        "id": "LjBwWD-NUvUO",
        "colab_type": "code",
        "colab": {
          "base_uri": "https://localhost:8080/",
          "height": 71
        },
        "outputId": "ecccda44-d76f-49c8-f319-fb8824355894"
      },
      "source": [
        "kf = KFold(n_splits=5, random_state=seed)"
      ],
      "execution_count": 65,
      "outputs": [
        {
          "output_type": "stream",
          "text": [
            "/usr/local/lib/python3.6/dist-packages/sklearn/model_selection/_split.py:296: FutureWarning: Setting a random_state has no effect since shuffle is False. This will raise an error in 0.24. You should leave random_state to its default (None), or set shuffle=True.\n",
            "  FutureWarning\n"
          ],
          "name": "stderr"
        }
      ]
    }
  ]
}