{
  "nbformat": 4,
  "nbformat_minor": 0,
  "metadata": {
    "colab": {
      "name": "Feature_selection.ipynb",
      "provenance": [],
      "collapsed_sections": []
    },
    "kernelspec": {
      "name": "python3",
      "display_name": "Python 3"
    }
  },
  "cells": [
    {
      "cell_type": "code",
      "metadata": {
        "id": "ofCqsrkrl9Xg"
      },
      "source": [
        "from sklearn.model_selection import train_test_split\n",
        "import numpy as np\n",
        "from sklearn.svm import SVC\n",
        "from sklearn.metrics import accuracy_score\n",
        "from sklearn.model_selection import KFold\n",
        "from sklearn.ensemble import RandomForestClassifier\n",
        "from sklearn.feature_selection import SelectKBest, chi2\n",
        "from sklearn.feature_selection import RFE"
      ],
      "execution_count": null,
      "outputs": []
    },
    {
      "cell_type": "code",
      "metadata": {
        "id": "zvdBaBwS4rkY",
        "outputId": "405f17a4-6d3a-4d0e-ee0b-1dee08b6cb5f",
        "colab": {
          "base_uri": "https://localhost:8080/",
          "height": 34
        }
      },
      "source": [
        "from google.colab import drive\n",
        "drive.mount('/content/drive')"
      ],
      "execution_count": null,
      "outputs": [
        {
          "output_type": "stream",
          "text": [
            "Mounted at /content/drive\n"
          ],
          "name": "stdout"
        }
      ]
    },
    {
      "cell_type": "code",
      "metadata": {
        "id": "MmZAg1ZCoDYL"
      },
      "source": [
        "def datasetLoad(posFile, negFile):\n",
        "  x_train = np.concatenate((np.load(posFile), np.load(negFile)), axis = 0)\n",
        "\n",
        "  return x_train\n"
      ],
      "execution_count": null,
      "outputs": []
    },
    {
      "cell_type": "code",
      "metadata": {
        "id": "4mkxgyNfmr65"
      },
      "source": [
        "#location\n",
        "kmer_nac_x = datasetLoad(\"/content/drive/My Drive/npy File All/positive 5289/Kmer 1.npy\",\"/content/drive/My Drive/npy File All/negative 5289/Kmer 1.npy\")\n",
        "kmer_dnc_x = datasetLoad(\"/content/drive/My Drive/npy File All/positive 5289/Kmer 2.npy\",\"/content/drive/My Drive/npy File All/negative 5289/Kmer 2.npy\")\n",
        "kmer_tnc_x = datasetLoad(\"/content/drive/My Drive/npy File All/positive 5289/Kmer 3.npy\",\"/content/drive/My Drive/npy File All/negative 5289/Kmer 3.npy\")\n",
        "enac_x = datasetLoad(\"/content/drive/My Drive/npy File All/positive 5289/ENAC 5.npy\",\"/content/drive/My Drive/npy File All/negative 5289/ENAC 5.npy\")\n",
        "pseknc_x = datasetLoad(\"/content/drive/My Drive/npy File All/positive 5289/PseKNC.npy\",\"/content/drive/My Drive/npy File All/negative 5289/PseKNC.npy\") \n",
        "pcpsednc_x = datasetLoad(\"/content/drive/My Drive/npy File All/positive 5289/PCPseDNC.npy\",\"/content/drive/My Drive/npy File All/negative 5289/PCPseDNC.npy\") \n",
        "\n",
        "y_train = np.concatenate((np.tile(1, 5289), np.tile(0, 5289)))"
      ],
      "execution_count": null,
      "outputs": []
    },
    {
      "cell_type": "code",
      "metadata": {
        "id": "hbBf0bycsnbN",
        "outputId": "3bd1856a-86a9-4405-cef7-03b69bc251a2",
        "colab": {
          "base_uri": "https://localhost:8080/",
          "height": 136
        }
      },
      "source": [
        "print(kmer_nac_x.shape)\n",
        "print(kmer_dnc_x.shape)\n",
        "print(kmer_tnc_x.shape)\n",
        "print(enac_x.shape)\n",
        "print(pseknc_x.shape)\n",
        "print(pcpsednc_x.shape)\n",
        "print(y_train.shape)"
      ],
      "execution_count": null,
      "outputs": [
        {
          "output_type": "stream",
          "text": [
            "(10578, 4)\n",
            "(10578, 16)\n",
            "(10578, 64)\n",
            "(10578, 148)\n",
            "(10578, 66)\n",
            "(10578, 18)\n",
            "(10578,)\n"
          ],
          "name": "stdout"
        }
      ]
    },
    {
      "cell_type": "code",
      "metadata": {
        "id": "dHspH6ECuepk",
        "outputId": "266b1194-c228-45be-e4f0-139b05b71691",
        "colab": {
          "base_uri": "https://localhost:8080/",
          "height": 34
        }
      },
      "source": [
        "x_train = np.concatenate((kmer_nac_x, kmer_dnc_x), axis = 1)\n",
        "x_train = np.concatenate((x_train, kmer_tnc_x), axis = 1)\n",
        "x_train = np.concatenate((x_train, enac_x), axis = 1)\n",
        "x_train = np.concatenate((x_train, pseknc_x), axis = 1)\n",
        "x_train = np.concatenate((x_train, pcpsednc_x), axis = 1)\n",
        "\n",
        "print(x_train.shape)"
      ],
      "execution_count": null,
      "outputs": [
        {
          "output_type": "stream",
          "text": [
            "(10578, 316)\n"
          ],
          "name": "stdout"
        }
      ]
    },
    {
      "cell_type": "code",
      "metadata": {
        "id": "NWnk9aBc0mZg"
      },
      "source": [
        "feature_group_64 = {\n",
        "    \"nac\": 0,\n",
        "    \"dnc\": 0,\n",
        "    \"tnc\": 0,\n",
        "    \"enac\": 0,\n",
        "    \"pseknc\": 0,\n",
        "    \"pcpsednc\": 0\n",
        "}\n",
        "feature_group_32 = {\n",
        "    \"nac\": 0,\n",
        "    \"dnc\": 0,\n",
        "    \"tnc\": 0,\n",
        "    \"enac\": 0,\n",
        "    \"pseknc\": 0,\n",
        "    \"pcpsednc\": 0\n",
        "}"
      ],
      "execution_count": null,
      "outputs": []
    },
    {
      "cell_type": "code",
      "metadata": {
        "id": "MCn3NOcqvYsn",
        "outputId": "6e6f4786-b91d-4c60-9cab-0f4324134d61",
        "colab": {
          "base_uri": "https://localhost:8080/",
          "height": 51
        }
      },
      "source": [
        "#64 feature\n",
        "X_64_best= SelectKBest(chi2, k=64).fit(x_train, y_train)\n",
        "mask = X_64_best.get_support()\n",
        "\n",
        "count = 0\n",
        "for x in mask:\n",
        "  if x:\n",
        "    if count >= 0 and count <= 3:\n",
        "      feature_group_64[\"nac\"] = feature_group_64[\"nac\"] + 1\n",
        "    elif count >= 4 and count <= 19:\n",
        "      feature_group_64[\"dnc\"] = feature_group_64[\"dnc\"] + 1\n",
        "    elif count >= 20 and count <= 83:\n",
        "      feature_group_64[\"tnc\"] = feature_group_64[\"tnc\"] + 1\n",
        "    elif count >= 84 and count <= 231:\n",
        "      feature_group_64[\"enac\"] = feature_group_64[\"enac\"] + 1\n",
        "    elif count >= 232 and count <= 297:\n",
        "      feature_group_64[\"pseknc\"] = feature_group_64[\"pseknc\"] + 1\n",
        "    elif count >= 298 and count <= 315:\n",
        "      feature_group_64[\"pcpsednc\"] = feature_group_64[\"pcpsednc\"] + 1\n",
        "  count = count + 1\n",
        "\n",
        "print(feature_group_64)\n",
        "sorted_feature_group_64 = sorted(feature_group_64.items(), key=lambda x: x[1], reverse=True)\n",
        "print(sorted_feature_group_64)\n"
      ],
      "execution_count": null,
      "outputs": [
        {
          "output_type": "stream",
          "text": [
            "{'nac': 1, 'dnc': 7, 'tnc': 21, 'enac': 12, 'pseknc': 16, 'pcpsednc': 7}\n",
            "[('tnc', 21), ('pseknc', 16), ('enac', 12), ('dnc', 7), ('pcpsednc', 7), ('nac', 1)]\n"
          ],
          "name": "stdout"
        }
      ]
    },
    {
      "cell_type": "code",
      "metadata": {
        "id": "fWk_QnyB9es-",
        "outputId": "9c5aa62c-7864-486b-b054-4026f3d65e11",
        "colab": {
          "base_uri": "https://localhost:8080/",
          "height": 51
        }
      },
      "source": [
        "#32 feature \n",
        "X_32_best= SelectKBest(chi2, k=32).fit(x_train, y_train)\n",
        "mask = X_32_best.get_support()\n",
        "\n",
        "count = 0\n",
        "for x in mask:\n",
        "  if x:\n",
        "    if count >= 0 and count <= 3:\n",
        "      feature_group_32[\"nac\"] = feature_group_32[\"nac\"] + 1\n",
        "    elif count >= 4 and count <= 19:\n",
        "      feature_group_32[\"dnc\"] = feature_group_32[\"dnc\"] + 1\n",
        "    elif count >= 20 and count <= 83:\n",
        "      feature_group_32[\"tnc\"] = feature_group_32[\"tnc\"] + 1\n",
        "    elif count >= 84 and count <= 231:\n",
        "      feature_group_32[\"enac\"] = feature_group_32[\"enac\"] + 1\n",
        "    elif count >= 232 and count <= 297:\n",
        "      feature_group_32[\"pseknc\"] = feature_group_32[\"pseknc\"] + 1\n",
        "    elif count >= 298 and count <= 315:\n",
        "      feature_group_32[\"pcpsednc\"] = feature_group_32[\"pcpsednc\"] + 1\n",
        "  count = count + 1\n",
        "\n",
        "print(feature_group_32)\n",
        "sorted_feature_group_32 = sorted(feature_group_32.items(), key=lambda x: x[1], reverse=True)\n",
        "print(sorted_feature_group_32)\n"
      ],
      "execution_count": null,
      "outputs": [
        {
          "output_type": "stream",
          "text": [
            "{'nac': 0, 'dnc': 4, 'tnc': 8, 'enac': 9, 'pseknc': 7, 'pcpsednc': 4}\n",
            "[('enac', 9), ('tnc', 8), ('pseknc', 7), ('dnc', 4), ('pcpsednc', 4), ('nac', 0)]\n"
          ],
          "name": "stdout"
        }
      ]
    },
    {
      "cell_type": "code",
      "metadata": {
        "id": "lD3MobO8Cndf",
        "outputId": "4649e0ca-fd41-47ab-ae20-af2054293cf0",
        "colab": {
          "base_uri": "https://localhost:8080/",
          "height": 51
        }
      },
      "source": [
        "#part 2\n",
        "x_train = np.concatenate((pseknc_x, pcpsednc_x), axis = 1)\n",
        "print(x_train.shape)\n",
        "print(y_train.shape)"
      ],
      "execution_count": null,
      "outputs": [
        {
          "output_type": "stream",
          "text": [
            "(10578, 84)\n",
            "(10578,)\n"
          ],
          "name": "stdout"
        }
      ]
    },
    {
      "cell_type": "code",
      "metadata": {
        "id": "AHGdDGnwDSzq"
      },
      "source": [
        "feature_group_28 = {\n",
        "    \"pseknc\": 0,\n",
        "    \"pcpsednc\": 0\n",
        "}\n",
        "feature_group_16 = {\n",
        "    \"pseknc\": 0,\n",
        "    \"pcpsednc\": 0\n",
        "}\n",
        "feature_group_12 = {\n",
        "    \"pseknc\": 0,\n",
        "    \"pcpsednc\": 0\n",
        "}"
      ],
      "execution_count": null,
      "outputs": []
    },
    {
      "cell_type": "code",
      "metadata": {
        "id": "voVZJYmX3c6_",
        "outputId": "28f26b02-d510-4d4f-8acb-388bc93e3d05",
        "colab": {
          "base_uri": "https://localhost:8080/",
          "height": 51
        }
      },
      "source": [
        "#28 feature \n",
        "estimator = RandomForestClassifier(random_state = 42)\n",
        "selector = RFE(estimator, 28, step=1)\n",
        "selector = selector.fit(x_train, y_train)\n",
        "rfe_mask = selector.get_support() #list of booleans for selected\n",
        "\n",
        "count = 0\n",
        "for x in rfe_mask:\n",
        "  if x:\n",
        "    if count >= 0 and count <= 65:\n",
        "      feature_group_28[\"pseknc\"] = feature_group_28[\"pseknc\"] + 1\n",
        "    elif count >= 66 and count <= 83:\n",
        "      feature_group_28[\"pcpsednc\"] = feature_group_28[\"pcpsednc\"] + 1\n",
        "  count = count + 1\n",
        "\n",
        "print(feature_group_28)\n",
        "sorted_feature_group_28 = sorted(feature_group_28.items(), key=lambda x: x[1], reverse=True)\n",
        "print(sorted_feature_group_28)"
      ],
      "execution_count": null,
      "outputs": [
        {
          "output_type": "stream",
          "text": [
            "{'pseknc': 19, 'pcpsednc': 9}\n",
            "[('pseknc', 19), ('pcpsednc', 9)]\n"
          ],
          "name": "stdout"
        }
      ]
    },
    {
      "cell_type": "code",
      "metadata": {
        "id": "LbcWd-Ln_1DX",
        "outputId": "60c3f2e6-99bc-42e0-830d-2c4966ef4013",
        "colab": {
          "base_uri": "https://localhost:8080/",
          "height": 51
        }
      },
      "source": [
        "#16 feature \n",
        "estimator = RandomForestClassifier(random_state = 42)\n",
        "selector = RFE(estimator, 16, step=1)\n",
        "selector = selector.fit(x_train, y_train)\n",
        "rfe_mask = selector.get_support() #list of booleans for selected\n",
        "\n",
        "count = 0\n",
        "for x in rfe_mask:\n",
        "  if x:\n",
        "    if count >= 0 and count <= 65:\n",
        "      feature_group_16[\"pseknc\"] = feature_group_16[\"pseknc\"] + 1\n",
        "    elif count >= 66 and count <= 83:\n",
        "      feature_group_16[\"pcpsednc\"] = feature_group_16[\"pcpsednc\"] + 1\n",
        "  count = count + 1\n",
        "\n",
        "print(feature_group_16)\n",
        "sorted_feature_group_16 = sorted(feature_group_16.items(), key=lambda x: x[1], reverse=True)\n",
        "print(sorted_feature_group_16)"
      ],
      "execution_count": null,
      "outputs": [
        {
          "output_type": "stream",
          "text": [
            "{'pseknc': 11, 'pcpsednc': 5}\n",
            "[('pseknc', 11), ('pcpsednc', 5)]\n"
          ],
          "name": "stdout"
        }
      ]
    },
    {
      "cell_type": "code",
      "metadata": {
        "id": "kg3JaQ1cEgn3",
        "outputId": "25e46dba-93c2-4971-c877-e77c6c300af4",
        "colab": {
          "base_uri": "https://localhost:8080/",
          "height": 51
        }
      },
      "source": [
        "#12 feature \n",
        "estimator = RandomForestClassifier(random_state = 42)\n",
        "selector = RFE(estimator, 12, step=1)\n",
        "selector = selector.fit(x_train, y_train)\n",
        "rfe_mask = selector.get_support() #list of booleans for selected\n",
        "\n",
        "count = 0\n",
        "for x in rfe_mask:\n",
        "  if x:\n",
        "    if count >= 0 and count <= 65:\n",
        "      feature_group_12[\"pseknc\"] = feature_group_12[\"pseknc\"] + 1\n",
        "    elif count >= 66 and count <= 83:\n",
        "      feature_group_12[\"pcpsednc\"] = feature_group_12[\"pcpsednc\"] + 1\n",
        "  count = count + 1\n",
        "\n",
        "print(feature_group_12)\n",
        "sorted_feature_group_12 = sorted(feature_group_12.items(), key=lambda x: x[1], reverse=True)\n",
        "print(sorted_feature_group_12)"
      ],
      "execution_count": null,
      "outputs": [
        {
          "output_type": "stream",
          "text": [
            "{'pseknc': 8, 'pcpsednc': 4}\n",
            "[('pseknc', 8), ('pcpsednc', 4)]\n"
          ],
          "name": "stdout"
        }
      ]
    },
    {
      "cell_type": "code",
      "metadata": {
        "id": "_ZJFRQjvD46g",
        "outputId": "fbb1b8f5-429c-4521-c284-c36056e154fc",
        "colab": {
          "base_uri": "https://localhost:8080/",
          "height": 85
        }
      },
      "source": [
        "#SVM cross validation\n",
        "\n",
        "x_train = pcpsednc_x\n",
        "x_test = datasetLoad(\"/content/drive/My Drive/npy File All/positive 5289/PCPseDNC.npy\", \"/content/drive/My Drive/npy File All/negative 5289/PCPseDNC.npy\")\n",
        "y_test = np.concatenate((np.tile(1, 5289), np.tile(1, 5289)))\n",
        "\n",
        "print(x_train.shape)\n",
        "print(y_train.shape)\n",
        "print(x_test.shape)\n",
        "print(y_test.shape)\n"
      ],
      "execution_count": null,
      "outputs": [
        {
          "output_type": "stream",
          "text": [
            "(10578, 18)\n",
            "(10578,)\n",
            "(10578, 18)\n",
            "(10578,)\n"
          ],
          "name": "stdout"
        }
      ]
    },
    {
      "cell_type": "code",
      "metadata": {
        "id": "3Ta6j5zfFc7x"
      },
      "source": [
        "seed = 40\n",
        "np.random.seed(seed)\n",
        "#elm\n",
        "kf = KFold(n_splits=5, random_state=seed, shuffle=True)"
      ],
      "execution_count": null,
      "outputs": []
    },
    {
      "cell_type": "code",
      "metadata": {
        "id": "cPzg3XV5Fq5z",
        "outputId": "7c954fc8-54f4-406a-eb2d-f6386e748721",
        "colab": {
          "base_uri": "https://localhost:8080/",
          "height": 1000
        }
      },
      "source": [
        "test_avg_list = []\n",
        "\n",
        "for c in range(1,100,10):\n",
        "  test_avg = 0\n",
        "\n",
        "  print(f'for c = {c}:')\n",
        "\n",
        "  clf = SVC(C=c,  random_state = seed)\n",
        "  val_accuracy_list = []\n",
        "  train_accuracy_list = []\n",
        "  test_accuracy_list = []\n",
        "\n",
        "  for train_index, val_index in kf.split(x_train):\n",
        "\n",
        "    X_train, X_val = x_train[train_index], x_train[val_index]\n",
        "    Y_train, Y_val = y_train[train_index], y_train[val_index]\n",
        "    \n",
        "    clf.fit(X_train, Y_train)\n",
        "\n",
        "    y_val_pred = clf.predict(X_val)\n",
        "    val_accuracy = accuracy_score(Y_val, y_val_pred)\n",
        "    val_accuracy_list.append(val_accuracy)\n",
        "\n",
        "    y_train_pred = clf.predict(X_train)\n",
        "    train_accuracy = accuracy_score(Y_train, y_train_pred)\n",
        "    train_accuracy_list.append(train_accuracy)\n",
        "\n",
        "    y_test_pred = clf.predict(x_test)\n",
        "    test_accuracy = accuracy_score(y_test, y_test_pred)\n",
        "    test_avg = test_avg + test_accuracy\n",
        "    test_accuracy_list.append(test_accuracy)\n",
        "\n",
        "  test_avg = test_avg/(len(test_accuracy_list))\n",
        "  test_avg_list.append(test_avg)\n",
        "\n",
        "  for i in range(0, len(train_accuracy_list)):\n",
        "    print(\"train_accuracy : \", train_accuracy_list[i], \"\\tVal accuracy : \", val_accuracy_list[i], \"\\tTest accuracy : \", test_accuracy_list[i])\n",
        "  print(f'Avg test accuracy for that c is = {test_avg}')\n",
        "  print()"
      ],
      "execution_count": null,
      "outputs": [
        {
          "output_type": "stream",
          "text": [
            "for c = 1:\n",
            "train_accuracy :  0.9671472465138266 \tVal accuracy :  0.9603024574669187 \tTest accuracy :  0.5005672149744753\n",
            "train_accuracy :  0.966438194280312 \tVal accuracy :  0.9593572778827977 \tTest accuracy :  0.5030251465305351\n",
            "train_accuracy :  0.9690380524698653 \tVal accuracy :  0.9551039697542533 \tTest accuracy :  0.5017961807525052\n",
            "train_accuracy :  0.967741935483871 \tVal accuracy :  0.957919621749409 \tTest accuracy :  0.5013235016071091\n",
            "train_accuracy :  0.9702233250620348 \tVal accuracy :  0.9460992907801419 \tTest accuracy :  0.5028360748723766\n",
            "Avg test accuracy for that c is = 0.5019096237474003\n",
            "\n",
            "for c = 11:\n",
            "train_accuracy :  0.9884188135192626 \tVal accuracy :  0.9603024574669187 \tTest accuracy :  0.5009453582907922\n",
            "train_accuracy :  0.9867643583077287 \tVal accuracy :  0.9669187145557656 \tTest accuracy :  0.501701644923426\n",
            "train_accuracy :  0.9884188135192626 \tVal accuracy :  0.9579395085066162 \tTest accuracy :  0.5014180374361883\n",
            "train_accuracy :  0.9878293749261491 \tVal accuracy :  0.9626477541371158 \tTest accuracy :  0.501701644923426\n",
            "train_accuracy :  0.9875930521091811 \tVal accuracy :  0.9617021276595744 \tTest accuracy :  0.501701644923426\n",
            "Avg test accuracy for that c is = 0.5014936660994518\n",
            "\n",
            "for c = 21:\n",
            "train_accuracy :  0.9924367761758449 \tVal accuracy :  0.9579395085066162 \tTest accuracy :  0.4999054641709208\n",
            "train_accuracy :  0.991609548570078 \tVal accuracy :  0.9645557655954632 \tTest accuracy :  0.5018907165815845\n",
            "train_accuracy :  0.9924367761758449 \tVal accuracy :  0.9565217391304348 \tTest accuracy :  0.5015125732652675\n",
            "train_accuracy :  0.9930284768994446 \tVal accuracy :  0.9588652482269504 \tTest accuracy :  0.5024579315560598\n",
            "train_accuracy :  0.9924376698570246 \tVal accuracy :  0.9617021276595744 \tTest accuracy :  0.5023633957269805\n",
            "Avg test accuracy for that c is = 0.5016260162601627\n",
            "\n",
            "for c = 31:\n",
            "train_accuracy :  0.9950366343653982 \tVal accuracy :  0.9555765595463138 \tTest accuracy :  0.49981092834184154\n",
            "train_accuracy :  0.9937367052706216 \tVal accuracy :  0.9612476370510397 \tTest accuracy :  0.5012289657780299\n",
            "train_accuracy :  0.9949184589931458 \tVal accuracy :  0.9546313799621928 \tTest accuracy :  0.5010398941198714\n",
            "train_accuracy :  0.9948008980267045 \tVal accuracy :  0.9560283687943263 \tTest accuracy :  0.5016071090943468\n",
            "train_accuracy :  0.9938556067588326 \tVal accuracy :  0.9593380614657211 \tTest accuracy :  0.5015125732652675\n",
            "Avg test accuracy for that c is = 0.5010398941198715\n",
            "\n",
            "for c = 41:\n",
            "train_accuracy :  0.9953911604821555 \tVal accuracy :  0.9536862003780718 \tTest accuracy :  0.4993382491964454\n",
            "train_accuracy :  0.9956275112266604 \tVal accuracy :  0.9593572778827977 \tTest accuracy :  0.5012289657780299\n",
            "train_accuracy :  0.9965729142046797 \tVal accuracy :  0.9532136105860114 \tTest accuracy :  0.501701644923426\n",
            "train_accuracy :  0.9964551577454803 \tVal accuracy :  0.9541371158392435 \tTest accuracy :  0.5019852524106636\n",
            "train_accuracy :  0.9957461892945764 \tVal accuracy :  0.957919621749409 \tTest accuracy :  0.5010398941198714\n",
            "Avg test accuracy for that c is = 0.5010588012856872\n",
            "\n",
            "for c = 51:\n",
            "train_accuracy :  0.9964547388324273 \tVal accuracy :  0.9517958412098299 \tTest accuracy :  0.49962185668368314\n",
            "train_accuracy :  0.9962183880879225 \tVal accuracy :  0.9588846880907372 \tTest accuracy :  0.500850822461713\n",
            "train_accuracy :  0.9972819664381943 \tVal accuracy :  0.9527410207939508 \tTest accuracy :  0.5010398941198714\n",
            "train_accuracy :  0.9970459647879003 \tVal accuracy :  0.9541371158392435 \tTest accuracy :  0.5015125732652675\n",
            "train_accuracy :  0.9966914805624483 \tVal accuracy :  0.9569739952718677 \tTest accuracy :  0.500850822461713\n",
            "Avg test accuracy for that c is = 0.5007751937984496\n",
            "\n",
            "for c = 61:\n",
            "train_accuracy :  0.9974001418104467 \tVal accuracy :  0.9513232514177694 \tTest accuracy :  0.4995273208546039\n",
            "train_accuracy :  0.9972819664381943 \tVal accuracy :  0.9588846880907372 \tTest accuracy :  0.5005672149744753\n",
            "train_accuracy :  0.9978728432994564 \tVal accuracy :  0.9527410207939508 \tTest accuracy :  0.5011344299489506\n",
            "train_accuracy :  0.9975186104218362 \tVal accuracy :  0.9479905437352246 \tTest accuracy :  0.5025524673851389\n",
            "train_accuracy :  0.9978730946472882 \tVal accuracy :  0.9569739952718677 \tTest accuracy :  0.500850822461713\n",
            "Avg test accuracy for that c is = 0.5009264511249762\n",
            "\n",
            "for c = 71:\n",
            "train_accuracy :  0.9979910186717088 \tVal accuracy :  0.9513232514177694 \tTest accuracy :  0.5\n",
            "train_accuracy :  0.997754667927204 \tVal accuracy :  0.9593572778827977 \tTest accuracy :  0.5004726791453961\n",
            "train_accuracy :  0.9982273694162137 \tVal accuracy :  0.9522684310018904 \tTest accuracy :  0.5007562866326337\n",
            "train_accuracy :  0.9979912560557722 \tVal accuracy :  0.9508274231678487 \tTest accuracy :  0.5023633957269805\n",
            "train_accuracy :  0.9984639016897081 \tVal accuracy :  0.9593380614657211 \tTest accuracy :  0.5006617508035546\n",
            "Avg test accuracy for that c is = 0.500850822461713\n",
            "\n",
            "for c = 81:\n",
            "train_accuracy :  0.9981091940439613 \tVal accuracy :  0.9517958412098299 \tTest accuracy :  0.49981092834184154\n",
            "train_accuracy :  0.9982273694162137 \tVal accuracy :  0.9593572778827977 \tTest accuracy :  0.5002836074872377\n",
            "train_accuracy :  0.998345544788466 \tVal accuracy :  0.9513232514177694 \tTest accuracy :  0.4999054641709208\n",
            "train_accuracy :  0.9982275788727402 \tVal accuracy :  0.950354609929078 \tTest accuracy :  0.5018907165815845\n",
            "train_accuracy :  0.9985820630981921 \tVal accuracy :  0.9593380614657211 \tTest accuracy :  0.5005672149744753\n",
            "Avg test accuracy for that c is = 0.500491586311212\n",
            "\n",
            "for c = 91:\n",
            "train_accuracy :  0.998345544788466 \tVal accuracy :  0.9517958412098299 \tTest accuracy :  0.49962185668368314\n",
            "train_accuracy :  0.998345544788466 \tVal accuracy :  0.9593572778827977 \tTest accuracy :  0.49981092834184154\n",
            "train_accuracy :  0.9987000709052234 \tVal accuracy :  0.9503780718336484 \tTest accuracy :  0.49962185668368314\n",
            "train_accuracy :  0.9983457402812241 \tVal accuracy :  0.9517730496453901 \tTest accuracy :  0.501701644923426\n",
            "train_accuracy :  0.9985820630981921 \tVal accuracy :  0.9574468085106383 \tTest accuracy :  0.5001890716581584\n",
            "Avg test accuracy for that c is = 0.5001890716581585\n",
            "\n"
          ],
          "name": "stdout"
        }
      ]
    }
  ]
}