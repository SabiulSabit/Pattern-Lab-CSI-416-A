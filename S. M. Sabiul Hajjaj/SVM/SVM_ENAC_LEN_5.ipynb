{
  "nbformat": 4,
  "nbformat_minor": 0,
  "metadata": {
    "colab": {
      "name": "SVM_ENAC_LEN_5.ipynb",
      "provenance": []
    },
    "kernelspec": {
      "name": "python3",
      "display_name": "Python 3"
    }
  },
  "cells": [
    {
      "cell_type": "code",
      "metadata": {
        "id": "XXou4c2DnMgo",
        "colab_type": "code",
        "colab": {}
      },
      "source": [
        "from sklearn.model_selection import train_test_split\n",
        "import numpy as np\n",
        "from sklearn.svm import SVC\n",
        "from sklearn.metrics import accuracy_score\n",
        "from sklearn.model_selection import KFold"
      ],
      "execution_count": 1,
      "outputs": []
    },
    {
      "cell_type": "code",
      "metadata": {
        "id": "XO0JQunBnaAw",
        "colab_type": "code",
        "colab": {
          "base_uri": "https://localhost:8080/",
          "height": 34
        },
        "outputId": "b58456bc-d148-4187-f502-b2cd5fb645be"
      },
      "source": [
        "from google.colab import drive\n",
        "drive.mount('/content/drive')"
      ],
      "execution_count": 2,
      "outputs": [
        {
          "output_type": "stream",
          "text": [
            "Mounted at /content/drive\n"
          ],
          "name": "stdout"
        }
      ]
    },
    {
      "cell_type": "code",
      "metadata": {
        "id": "n8S0arzunfnO",
        "colab_type": "code",
        "colab": {}
      },
      "source": [
        "pos_5289 = \"/content/drive/My Drive/npy File All/A.thaliana5289_pos.fasta-ENAC-Len-5.npy\"\n",
        "neg_5289 = \"/content/drive/My Drive/npy File All/A.thaliana5289_neg.fasta-ENAC-Len-5.npy\"\n",
        "pos_1000 = \"/content/drive/My Drive/npy File All/A.thaliana1000indep_pos-ENAC-Len-5.npy\"\n",
        "neg_1000 = \"/content/drive/My Drive/npy File All/A.thaliana1000indep_neg.fasta-ENAC-5.npy\"\n",
        "\n",
        "x_train_pos = np.load(pos_5289) \n",
        "x_train_neg = np.load(neg_5289) \n",
        "x_test_pos = np.load(pos_1000) \n",
        "x_test_neg = np.load(neg_1000) \n",
        "\n",
        "y_train_pos = np.tile(1, 5289) \n",
        "y_train_neg = np.tile(0, 5289) \n",
        "y_test_pos = np.tile(1, 1000) \n",
        "y_test_neg = np.tile(0, 1000)"
      ],
      "execution_count": 3,
      "outputs": []
    },
    {
      "cell_type": "code",
      "metadata": {
        "id": "lhRxs62znkq3",
        "colab_type": "code",
        "colab": {}
      },
      "source": [
        "x_training = np.concatenate((x_train_pos, x_train_neg), axis = 0)\n",
        "y_training = np.concatenate((y_train_pos, y_train_neg))\n",
        "\n",
        "x_test = np.concatenate((x_test_pos, x_test_neg), axis = 0)\n",
        "y_test = np.concatenate((y_test_pos, y_test_neg))"
      ],
      "execution_count": 4,
      "outputs": []
    },
    {
      "cell_type": "code",
      "metadata": {
        "id": "tPR6A5b4nnFW",
        "colab_type": "code",
        "colab": {}
      },
      "source": [
        "seed = 40\n",
        "np.random.seed(seed)\n",
        "\n",
        "kf = KFold(n_splits=5, random_state=seed,shuffle=True)"
      ],
      "execution_count": 6,
      "outputs": []
    },
    {
      "cell_type": "code",
      "metadata": {
        "id": "7OTT9F9xnuPg",
        "colab_type": "code",
        "colab": {
          "base_uri": "https://localhost:8080/",
          "height": 1000
        },
        "outputId": "657d333e-dab3-44ad-94ef-5157b860307e"
      },
      "source": [
        "test_avg_acc_list = []\n",
        "j = 1\n",
        "for c in range(1,100000,10000):\n",
        "  clf = SVC(C=c,  random_state = seed)\n",
        "  val_accuracy_list = []\n",
        "  train_accuracy_list = []\n",
        "  test_acc_list = []\n",
        "  test_avg = 0\n",
        "  for train_index, val_index in kf.split(x_training):\n",
        "    #print(\"train = \",train_index,\"Val =\",val_index)\n",
        "    X_train, X_val = x_training[train_index], x_training[val_index]\n",
        "    y_train, y_val = y_training[train_index], y_training[val_index]\n",
        "    \n",
        "    clf.fit(X_train, y_train)\n",
        "\n",
        "    y_val_pred = clf.predict(X_val)\n",
        "    val_accuracy = accuracy_score(y_val, y_val_pred)\n",
        "    val_accuracy_list.append(val_accuracy)\n",
        "\n",
        "    y_train_pred = clf.predict(X_train)\n",
        "    train_accuracy = accuracy_score(y_train, y_train_pred)\n",
        "    train_accuracy_list.append(train_accuracy)\n",
        "\n",
        "    y_test_pred = clf.predict(x_test)\n",
        "    test_accuracy = accuracy_score(y_test, y_test_pred)\n",
        "    test_acc_list.append(test_accuracy)\n",
        "    test_avg = test_avg + test_accuracy\n",
        "  test_avg = test_avg/5\n",
        "  print(f\"Epoch {j}/{10} for C = {c}\")\n",
        "  j=j+1\n",
        "  for i in range(0, len(train_accuracy_list)):\n",
        "    print(\"Train Accuracy : \", train_accuracy_list[i], \"\\tValidation Accuracy : \", val_accuracy_list[i],\"\\tTest Accuracy \",test_acc_list[i])\n",
        "  print(\"Avg Test Accuracy:\",test_avg)"
      ],
      "execution_count": 7,
      "outputs": [
        {
          "output_type": "stream",
          "text": [
            "Epoch 1/10 for C = 1\n",
            "Train Accuracy :  0.9703379815646419 \tValidation Accuracy :  0.8974480151228733 \tTest Accuracy  0.6155\n",
            "Train Accuracy :  0.9691562278421177 \tValidation Accuracy :  0.8960302457466919 \tTest Accuracy  0.6325\n",
            "Train Accuracy :  0.9693925785866225 \tValidation Accuracy :  0.9097353497164461 \tTest Accuracy  0.6235\n",
            "Train Accuracy :  0.967387451258419 \tValidation Accuracy :  0.8950354609929078 \tTest Accuracy  0.6165\n",
            "Train Accuracy :  0.9698688408365828 \tValidation Accuracy :  0.8969267139479905 \tTest Accuracy  0.6165\n",
            "Avg Test Accuracy: 0.6209000000000001\n",
            "Epoch 2/10 for C = 10001\n",
            "Train Accuracy :  1.0 \tValidation Accuracy :  0.9541587901701323 \tTest Accuracy  0.619\n",
            "Train Accuracy :  1.0 \tValidation Accuracy :  0.9508506616257089 \tTest Accuracy  0.621\n",
            "Train Accuracy :  1.0 \tValidation Accuracy :  0.9617202268431002 \tTest Accuracy  0.618\n",
            "Train Accuracy :  1.0 \tValidation Accuracy :  0.956501182033097 \tTest Accuracy  0.611\n",
            "Train Accuracy :  1.0 \tValidation Accuracy :  0.9508274231678487 \tTest Accuracy  0.622\n",
            "Avg Test Accuracy: 0.6182000000000001\n",
            "Epoch 3/10 for C = 20001\n",
            "Train Accuracy :  1.0 \tValidation Accuracy :  0.9541587901701323 \tTest Accuracy  0.619\n",
            "Train Accuracy :  1.0 \tValidation Accuracy :  0.9508506616257089 \tTest Accuracy  0.621\n",
            "Train Accuracy :  1.0 \tValidation Accuracy :  0.9617202268431002 \tTest Accuracy  0.618\n",
            "Train Accuracy :  1.0 \tValidation Accuracy :  0.956501182033097 \tTest Accuracy  0.611\n",
            "Train Accuracy :  1.0 \tValidation Accuracy :  0.9508274231678487 \tTest Accuracy  0.622\n",
            "Avg Test Accuracy: 0.6182000000000001\n",
            "Epoch 4/10 for C = 30001\n",
            "Train Accuracy :  1.0 \tValidation Accuracy :  0.9541587901701323 \tTest Accuracy  0.619\n",
            "Train Accuracy :  1.0 \tValidation Accuracy :  0.9508506616257089 \tTest Accuracy  0.621\n",
            "Train Accuracy :  1.0 \tValidation Accuracy :  0.9617202268431002 \tTest Accuracy  0.618\n",
            "Train Accuracy :  1.0 \tValidation Accuracy :  0.956501182033097 \tTest Accuracy  0.611\n",
            "Train Accuracy :  1.0 \tValidation Accuracy :  0.9508274231678487 \tTest Accuracy  0.622\n",
            "Avg Test Accuracy: 0.6182000000000001\n",
            "Epoch 5/10 for C = 40001\n",
            "Train Accuracy :  1.0 \tValidation Accuracy :  0.9541587901701323 \tTest Accuracy  0.619\n",
            "Train Accuracy :  1.0 \tValidation Accuracy :  0.9508506616257089 \tTest Accuracy  0.621\n",
            "Train Accuracy :  1.0 \tValidation Accuracy :  0.9617202268431002 \tTest Accuracy  0.618\n",
            "Train Accuracy :  1.0 \tValidation Accuracy :  0.956501182033097 \tTest Accuracy  0.611\n",
            "Train Accuracy :  1.0 \tValidation Accuracy :  0.9508274231678487 \tTest Accuracy  0.622\n",
            "Avg Test Accuracy: 0.6182000000000001\n",
            "Epoch 6/10 for C = 50001\n",
            "Train Accuracy :  1.0 \tValidation Accuracy :  0.9541587901701323 \tTest Accuracy  0.619\n",
            "Train Accuracy :  1.0 \tValidation Accuracy :  0.9508506616257089 \tTest Accuracy  0.621\n",
            "Train Accuracy :  1.0 \tValidation Accuracy :  0.9617202268431002 \tTest Accuracy  0.618\n",
            "Train Accuracy :  1.0 \tValidation Accuracy :  0.956501182033097 \tTest Accuracy  0.611\n",
            "Train Accuracy :  1.0 \tValidation Accuracy :  0.9508274231678487 \tTest Accuracy  0.622\n",
            "Avg Test Accuracy: 0.6182000000000001\n",
            "Epoch 7/10 for C = 60001\n",
            "Train Accuracy :  1.0 \tValidation Accuracy :  0.9541587901701323 \tTest Accuracy  0.619\n",
            "Train Accuracy :  1.0 \tValidation Accuracy :  0.9508506616257089 \tTest Accuracy  0.621\n",
            "Train Accuracy :  1.0 \tValidation Accuracy :  0.9617202268431002 \tTest Accuracy  0.618\n",
            "Train Accuracy :  1.0 \tValidation Accuracy :  0.956501182033097 \tTest Accuracy  0.611\n",
            "Train Accuracy :  1.0 \tValidation Accuracy :  0.9508274231678487 \tTest Accuracy  0.622\n",
            "Avg Test Accuracy: 0.6182000000000001\n",
            "Epoch 8/10 for C = 70001\n",
            "Train Accuracy :  1.0 \tValidation Accuracy :  0.9541587901701323 \tTest Accuracy  0.619\n",
            "Train Accuracy :  1.0 \tValidation Accuracy :  0.9508506616257089 \tTest Accuracy  0.621\n",
            "Train Accuracy :  1.0 \tValidation Accuracy :  0.9617202268431002 \tTest Accuracy  0.618\n",
            "Train Accuracy :  1.0 \tValidation Accuracy :  0.956501182033097 \tTest Accuracy  0.611\n",
            "Train Accuracy :  1.0 \tValidation Accuracy :  0.9508274231678487 \tTest Accuracy  0.622\n",
            "Avg Test Accuracy: 0.6182000000000001\n",
            "Epoch 9/10 for C = 80001\n",
            "Train Accuracy :  1.0 \tValidation Accuracy :  0.9541587901701323 \tTest Accuracy  0.619\n",
            "Train Accuracy :  1.0 \tValidation Accuracy :  0.9508506616257089 \tTest Accuracy  0.621\n",
            "Train Accuracy :  1.0 \tValidation Accuracy :  0.9617202268431002 \tTest Accuracy  0.618\n",
            "Train Accuracy :  1.0 \tValidation Accuracy :  0.956501182033097 \tTest Accuracy  0.611\n",
            "Train Accuracy :  1.0 \tValidation Accuracy :  0.9508274231678487 \tTest Accuracy  0.622\n",
            "Avg Test Accuracy: 0.6182000000000001\n",
            "Epoch 10/10 for C = 90001\n",
            "Train Accuracy :  1.0 \tValidation Accuracy :  0.9541587901701323 \tTest Accuracy  0.619\n",
            "Train Accuracy :  1.0 \tValidation Accuracy :  0.9508506616257089 \tTest Accuracy  0.621\n",
            "Train Accuracy :  1.0 \tValidation Accuracy :  0.9617202268431002 \tTest Accuracy  0.618\n",
            "Train Accuracy :  1.0 \tValidation Accuracy :  0.956501182033097 \tTest Accuracy  0.611\n",
            "Train Accuracy :  1.0 \tValidation Accuracy :  0.9508274231678487 \tTest Accuracy  0.622\n",
            "Avg Test Accuracy: 0.6182000000000001\n"
          ],
          "name": "stdout"
        }
      ]
    }
  ]
}