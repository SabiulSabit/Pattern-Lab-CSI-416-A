{
  "nbformat": 4,
  "nbformat_minor": 0,
  "metadata": {
    "colab": {
      "name": "Marge_Random_Forest(KNAC_5_Kmer_1).ipynb",
      "provenance": [],
      "collapsed_sections": []
    },
    "kernelspec": {
      "name": "python3",
      "display_name": "Python 3"
    }
  },
  "cells": [
    {
      "cell_type": "code",
      "metadata": {
        "id": "-9o3s9_u58Be",
        "colab_type": "code",
        "colab": {}
      },
      "source": [
        "from sklearn.model_selection import train_test_split\n",
        "import numpy as np\n",
        "from sklearn.ensemble import RandomForestClassifier\n",
        "from sklearn.model_selection import KFold\n",
        "from sklearn.preprocessing import StandardScaler\n",
        "from sklearn.metrics import confusion_matrix,accuracy_score,classification_report"
      ],
      "execution_count": 1,
      "outputs": []
    },
    {
      "cell_type": "code",
      "metadata": {
        "id": "4Wzmgk9z7HPR",
        "colab_type": "code",
        "colab": {
          "base_uri": "https://localhost:8080/",
          "height": 34
        },
        "outputId": "16c3ed85-d6a4-4482-c1c1-873ee7e5f2f2"
      },
      "source": [
        "from google.colab import drive\n",
        "drive.mount('/content/drive')"
      ],
      "execution_count": 2,
      "outputs": [
        {
          "output_type": "stream",
          "text": [
            "Mounted at /content/drive\n"
          ],
          "name": "stdout"
        }
      ]
    },
    {
      "cell_type": "code",
      "metadata": {
        "id": "azjrfdvk6LFB",
        "colab_type": "code",
        "colab": {
          "base_uri": "https://localhost:8080/",
          "height": 153
        },
        "outputId": "ade8277e-c342-40b1-bf82-c4c69b16a1be"
      },
      "source": [
        "a_pos_5289 = \"/content/drive/My Drive/npy File All/A.thaliana5289_pos.fasta-ENAC-Len-5.npy\"\n",
        "a_neg_5289 = \"/content/drive/My Drive/npy File All/A.thaliana5289_neg.fasta-ENAC-Len-5.npy\"\n",
        "a_pos_1000 = \"/content/drive/My Drive/npy File All/A.thaliana1000indep_pos-ENAC-Len-5.npy\"\n",
        "a_neg_1000 = \"/content/drive/My Drive/npy File All/A.thaliana1000indep_neg.fasta-ENAC-5.npy\"\n",
        "\n",
        "a_x_train_pos = np.load(a_pos_5289) \n",
        "a_x_train_neg = np.load(a_neg_5289) \n",
        "a_x_test_pos = np.load(a_pos_1000) \n",
        "a_x_test_neg = np.load(a_neg_1000) \n",
        "\n",
        "\n",
        "b_pos_5289 =  \"/content/drive/My Drive/npy File All/A.thaliana5289_pos.fasta-Kmer-1.npy\"\n",
        "b_neg_5289 = \"/content/drive/My Drive/npy File All/A.thaliana5289_neg.fasta-Kmer-1.npy\"\n",
        "b_pos_1000 = \"/content/drive/My Drive/npy File All/A.thaliana1000indep_pos-Kmer-1.npy\"\n",
        "b_neg_1000 = \"/content/drive/My Drive/npy File All/A.thaliana1000indep_neg.fasta-kmer-1.npy\"\n",
        "\n",
        "\n",
        "b_x_train_pos = np.load(b_pos_5289) \n",
        "b_x_train_neg = np.load(b_neg_5289) \n",
        "b_x_test_pos = np.load(b_pos_1000) \n",
        "b_x_test_neg = np.load(b_neg_1000) \n",
        "\n",
        "y_train_pos = np.tile(1, 5289) \n",
        "y_train_neg = np.tile(0, 5289) \n",
        "y_test_pos = np.tile(1, 1000) \n",
        "y_test_neg = np.tile(0, 1000)\n",
        "\n",
        "print(a_x_test_neg.shape)\n",
        "print(a_x_train_neg.shape)\n",
        "print(a_x_test_pos.shape)\n",
        "print(a_x_train_pos.shape)\n",
        "print(b_x_test_neg.shape)\n",
        "print(b_x_train_neg.shape)\n",
        "print(b_x_test_pos.shape)\n",
        "print(b_x_train_pos.shape)"
      ],
      "execution_count": 4,
      "outputs": [
        {
          "output_type": "stream",
          "text": [
            "(1000, 148)\n",
            "(5289, 148)\n",
            "(1000, 148)\n",
            "(5289, 148)\n",
            "(1000, 4)\n",
            "(5289, 4)\n",
            "(1000, 4)\n",
            "(5289, 4)\n"
          ],
          "name": "stdout"
        }
      ]
    },
    {
      "cell_type": "code",
      "metadata": {
        "id": "vPkI_Pug6UUY",
        "colab_type": "code",
        "colab": {}
      },
      "source": [
        "a_x_training = np.concatenate((a_x_train_pos, a_x_train_neg), axis = 0)\n",
        "a_x_test = np.concatenate((a_x_test_pos, a_x_test_neg), axis = 0)\n",
        "\n",
        "b_x_training = np.concatenate((b_x_train_pos, b_x_train_neg), axis = 0)\n",
        "b_x_test = np.concatenate((b_x_test_pos, b_x_test_neg), axis = 0)\n",
        "\n",
        "y_training = np.concatenate((y_train_pos,y_train_neg))\n",
        "y_test = np.concatenate((y_test_pos,y_test_neg))"
      ],
      "execution_count": 11,
      "outputs": []
    },
    {
      "cell_type": "code",
      "metadata": {
        "id": "NEnzQYYo6VK_",
        "colab_type": "code",
        "colab": {}
      },
      "source": [
        "x_training = np.concatenate((a_x_training, b_x_training), axis = 1)\n",
        "\n",
        "x_test = np.concatenate((a_x_test, b_x_test), axis = 1)"
      ],
      "execution_count": 12,
      "outputs": []
    },
    {
      "cell_type": "code",
      "metadata": {
        "id": "NaBEYPXO6ZzP",
        "colab_type": "code",
        "colab": {}
      },
      "source": [
        "seed = 40\n",
        "np.random.seed(seed)\n",
        "\n",
        "kf = KFold(n_splits=5, random_state=seed, shuffle=True)"
      ],
      "execution_count": 13,
      "outputs": []
    },
    {
      "cell_type": "code",
      "metadata": {
        "id": "oHErzWrI6c6Y",
        "colab_type": "code",
        "colab": {
          "base_uri": "https://localhost:8080/",
          "height": 1000
        },
        "outputId": "0aafd2d4-8d39-480c-e4bd-95af72285cd7"
      },
      "source": [
        "\n",
        "test_avg_acc_list = []\n",
        "j = 1\n",
        "for c in range(1,452,50):\n",
        "  RFC = RandomForestClassifier(n_estimators=c,max_depth=None)\n",
        "  val_accuracy_list = []\n",
        "  train_accuracy_list = []\n",
        "  test_acc_list = []\n",
        "  test_avg = 0\n",
        "  for train_index, val_index in kf.split(x_training):\n",
        "    #print(\"train = \",train_index,\"Val =\",val_index)\n",
        "    X_train, X_val = x_training[train_index], x_training[val_index]\n",
        "    y_train, y_val = y_training[train_index], y_training[val_index]\n",
        "    \n",
        "    RFC.fit(X_train, y_train)\n",
        "\n",
        "    y_val_pred = RFC.predict(X_val)\n",
        "    val_accuracy = accuracy_score(y_val, y_val_pred)\n",
        "    val_accuracy_list.append(val_accuracy)\n",
        "\n",
        "    y_train_pred = RFC.predict(X_train)\n",
        "    train_accuracy = accuracy_score(y_train, y_train_pred)\n",
        "    train_accuracy_list.append(train_accuracy)\n",
        "\n",
        "    y_test_pred = RFC.predict(x_test)\n",
        "    test_accuracy = accuracy_score(y_test, y_test_pred)\n",
        "    test_acc_list.append(test_accuracy)\n",
        "    test_avg = test_avg + test_accuracy\n",
        "  test_avg = test_avg/5\n",
        "  print(f\"Epoch {j}/{10} for C = {c}\")\n",
        "  j=j+1\n",
        "  for i in range(0, len(train_accuracy_list)):\n",
        "    print(\"Train Accuracy : \", train_accuracy_list[i], \"\\tValidation Accuracy : \", val_accuracy_list[i],\"\\tTest Accuracy \",test_acc_list[i])\n",
        "  print(\"Avg Test Accuracy:\",test_avg)"
      ],
      "execution_count": 14,
      "outputs": [
        {
          "output_type": "stream",
          "text": [
            "Epoch 1/10 for C = 1\n",
            "Train Accuracy :  0.9105412432049161 \tValidation Accuracy :  0.7542533081285444 \tTest Accuracy  0.5845\n",
            "Train Accuracy :  0.904632474592295 \tValidation Accuracy :  0.7386578449905482 \tTest Accuracy  0.593\n",
            "Train Accuracy :  0.9145592058614984 \tValidation Accuracy :  0.7651228733459358 \tTest Accuracy  0.585\n",
            "Train Accuracy :  0.9190594351884674 \tValidation Accuracy :  0.7881796690307329 \tTest Accuracy  0.579\n",
            "Train Accuracy :  0.9201228878648233 \tValidation Accuracy :  0.774468085106383 \tTest Accuracy  0.6625\n",
            "Avg Test Accuracy: 0.6008\n",
            "Epoch 2/10 for C = 51\n",
            "Train Accuracy :  1.0 \tValidation Accuracy :  0.9494328922495274 \tTest Accuracy  0.7255\n",
            "Train Accuracy :  1.0 \tValidation Accuracy :  0.9465973534971645 \tTest Accuracy  0.7335\n",
            "Train Accuracy :  1.0 \tValidation Accuracy :  0.9607750472589792 \tTest Accuracy  0.7195\n",
            "Train Accuracy :  1.0 \tValidation Accuracy :  0.9498817966903074 \tTest Accuracy  0.7295\n",
            "Train Accuracy :  1.0 \tValidation Accuracy :  0.9536643026004729 \tTest Accuracy  0.7355\n",
            "Avg Test Accuracy: 0.7287000000000001\n",
            "Epoch 3/10 for C = 101\n",
            "Train Accuracy :  1.0 \tValidation Accuracy :  0.9626654064272212 \tTest Accuracy  0.7385\n",
            "Train Accuracy :  1.0 \tValidation Accuracy :  0.9551039697542533 \tTest Accuracy  0.725\n",
            "Train Accuracy :  1.0 \tValidation Accuracy :  0.9640831758034026 \tTest Accuracy  0.7125\n",
            "Train Accuracy :  1.0 \tValidation Accuracy :  0.9555555555555556 \tTest Accuracy  0.726\n",
            "Train Accuracy :  1.0 \tValidation Accuracy :  0.9531914893617022 \tTest Accuracy  0.727\n",
            "Avg Test Accuracy: 0.7258\n",
            "Epoch 4/10 for C = 151\n",
            "Train Accuracy :  1.0 \tValidation Accuracy :  0.9617202268431002 \tTest Accuracy  0.7315\n",
            "Train Accuracy :  1.0 \tValidation Accuracy :  0.9532136105860114 \tTest Accuracy  0.7335\n",
            "Train Accuracy :  1.0 \tValidation Accuracy :  0.9612476370510397 \tTest Accuracy  0.712\n",
            "Train Accuracy :  1.0 \tValidation Accuracy :  0.956501182033097 \tTest Accuracy  0.7285\n",
            "Train Accuracy :  1.0 \tValidation Accuracy :  0.9602836879432625 \tTest Accuracy  0.7545\n",
            "Avg Test Accuracy: 0.732\n",
            "Epoch 5/10 for C = 201\n",
            "Train Accuracy :  1.0 \tValidation Accuracy :  0.9626654064272212 \tTest Accuracy  0.7335\n",
            "Train Accuracy :  1.0 \tValidation Accuracy :  0.9532136105860114 \tTest Accuracy  0.7255\n",
            "Train Accuracy :  1.0 \tValidation Accuracy :  0.9669187145557656 \tTest Accuracy  0.7285\n",
            "Train Accuracy :  1.0 \tValidation Accuracy :  0.9607565011820332 \tTest Accuracy  0.74\n",
            "Train Accuracy :  1.0 \tValidation Accuracy :  0.9612293144208038 \tTest Accuracy  0.7185\n",
            "Avg Test Accuracy: 0.7292000000000001\n",
            "Epoch 6/10 for C = 251\n",
            "Train Accuracy :  1.0 \tValidation Accuracy :  0.9631379962192816 \tTest Accuracy  0.7225\n",
            "Train Accuracy :  1.0 \tValidation Accuracy :  0.9532136105860114 \tTest Accuracy  0.7355\n",
            "Train Accuracy :  1.0 \tValidation Accuracy :  0.9640831758034026 \tTest Accuracy  0.7185\n",
            "Train Accuracy :  1.0 \tValidation Accuracy :  0.9569739952718677 \tTest Accuracy  0.7235\n",
            "Train Accuracy :  1.0 \tValidation Accuracy :  0.9645390070921985 \tTest Accuracy  0.7425\n",
            "Avg Test Accuracy: 0.7285000000000001\n",
            "Epoch 7/10 for C = 301\n",
            "Train Accuracy :  1.0 \tValidation Accuracy :  0.9612476370510397 \tTest Accuracy  0.7405\n",
            "Train Accuracy :  1.0 \tValidation Accuracy :  0.9513232514177694 \tTest Accuracy  0.7455\n",
            "Train Accuracy :  1.0 \tValidation Accuracy :  0.968336483931947 \tTest Accuracy  0.748\n",
            "Train Accuracy :  1.0 \tValidation Accuracy :  0.9569739952718677 \tTest Accuracy  0.746\n",
            "Train Accuracy :  1.0 \tValidation Accuracy :  0.9602836879432625 \tTest Accuracy  0.738\n",
            "Avg Test Accuracy: 0.7436\n",
            "Epoch 8/10 for C = 351\n",
            "Train Accuracy :  1.0 \tValidation Accuracy :  0.9617202268431002 \tTest Accuracy  0.74\n",
            "Train Accuracy :  1.0 \tValidation Accuracy :  0.9546313799621928 \tTest Accuracy  0.732\n",
            "Train Accuracy :  1.0 \tValidation Accuracy :  0.9664461247637051 \tTest Accuracy  0.737\n",
            "Train Accuracy :  1.0 \tValidation Accuracy :  0.9621749408983451 \tTest Accuracy  0.7395\n",
            "Train Accuracy :  1.0 \tValidation Accuracy :  0.9617021276595744 \tTest Accuracy  0.736\n",
            "Avg Test Accuracy: 0.7369\n",
            "Epoch 9/10 for C = 401\n",
            "Train Accuracy :  1.0 \tValidation Accuracy :  0.9645557655954632 \tTest Accuracy  0.7385\n",
            "Train Accuracy :  1.0 \tValidation Accuracy :  0.9551039697542533 \tTest Accuracy  0.7285\n",
            "Train Accuracy :  1.0 \tValidation Accuracy :  0.9659735349716446 \tTest Accuracy  0.743\n",
            "Train Accuracy :  1.0 \tValidation Accuracy :  0.9598108747044918 \tTest Accuracy  0.749\n",
            "Train Accuracy :  1.0 \tValidation Accuracy :  0.9617021276595744 \tTest Accuracy  0.7445\n",
            "Avg Test Accuracy: 0.7407\n",
            "Epoch 10/10 for C = 451\n",
            "Train Accuracy :  1.0 \tValidation Accuracy :  0.9640831758034026 \tTest Accuracy  0.7345\n",
            "Train Accuracy :  1.0 \tValidation Accuracy :  0.9522684310018904 \tTest Accuracy  0.745\n",
            "Train Accuracy :  1.0 \tValidation Accuracy :  0.9716446124763705 \tTest Accuracy  0.7375\n",
            "Train Accuracy :  1.0 \tValidation Accuracy :  0.9602836879432625 \tTest Accuracy  0.741\n",
            "Train Accuracy :  1.0 \tValidation Accuracy :  0.9650118203309692 \tTest Accuracy  0.7375\n",
            "Avg Test Accuracy: 0.7391\n"
          ],
          "name": "stdout"
        }
      ]
    },
    {
      "cell_type": "code",
      "metadata": {
        "id": "1s8S88kJ6f1J",
        "colab_type": "code",
        "colab": {
          "base_uri": "https://localhost:8080/",
          "height": 731
        },
        "outputId": "fc3772d7-c67e-45ff-8831-b081d3813aef"
      },
      "source": [
        "test_avg_acc_list = []\n",
        "j = 1\n",
        "for c in range(380,431,10):\n",
        "  RFC = RandomForestClassifier(n_estimators=c,max_depth=None)\n",
        "  val_accuracy_list = []\n",
        "  train_accuracy_list = []\n",
        "  test_acc_list = []\n",
        "  test_avg = 0\n",
        "  for train_index, val_index in kf.split(x_training):\n",
        "    #print(\"train = \",train_index,\"Val =\",val_index)\n",
        "    X_train, X_val = x_training[train_index], x_training[val_index]\n",
        "    y_train, y_val = y_training[train_index], y_training[val_index]\n",
        "    \n",
        "    RFC.fit(X_train, y_train)\n",
        "\n",
        "    y_val_pred = RFC.predict(X_val)\n",
        "    val_accuracy = accuracy_score(y_val, y_val_pred)\n",
        "    val_accuracy_list.append(val_accuracy)\n",
        "\n",
        "    y_train_pred = RFC.predict(X_train)\n",
        "    train_accuracy = accuracy_score(y_train, y_train_pred)\n",
        "    train_accuracy_list.append(train_accuracy)\n",
        "\n",
        "    y_test_pred = RFC.predict(x_test)\n",
        "    test_accuracy = accuracy_score(y_test, y_test_pred)\n",
        "    test_acc_list.append(test_accuracy)\n",
        "    test_avg = test_avg + test_accuracy\n",
        "  test_avg = test_avg/5\n",
        "  print(f\"Epoch {j}/{5} for C = {c}\")\n",
        "  j=j+1\n",
        "  for i in range(0, len(train_accuracy_list)):\n",
        "    print(\"Train Accuracy : \", train_accuracy_list[i], \"\\tValidation Accuracy : \", val_accuracy_list[i],\"\\tTest Accuracy \",test_acc_list[i])\n",
        "  print(\"Avg Test Accuracy:\",test_avg)"
      ],
      "execution_count": 16,
      "outputs": [
        {
          "output_type": "stream",
          "text": [
            "Epoch 1/5 for C = 380\n",
            "Train Accuracy :  1.0 \tValidation Accuracy :  0.9617202268431002 \tTest Accuracy  0.7395\n",
            "Train Accuracy :  1.0 \tValidation Accuracy :  0.9532136105860114 \tTest Accuracy  0.737\n",
            "Train Accuracy :  1.0 \tValidation Accuracy :  0.9697542533081286 \tTest Accuracy  0.7435\n",
            "Train Accuracy :  1.0 \tValidation Accuracy :  0.9598108747044918 \tTest Accuracy  0.725\n",
            "Train Accuracy :  1.0 \tValidation Accuracy :  0.9617021276595744 \tTest Accuracy  0.737\n",
            "Avg Test Accuracy: 0.7364\n",
            "Epoch 2/5 for C = 390\n",
            "Train Accuracy :  1.0 \tValidation Accuracy :  0.9621928166351607 \tTest Accuracy  0.7335\n",
            "Train Accuracy :  1.0 \tValidation Accuracy :  0.9517958412098299 \tTest Accuracy  0.7425\n",
            "Train Accuracy :  1.0 \tValidation Accuracy :  0.9640831758034026 \tTest Accuracy  0.7355\n",
            "Train Accuracy :  1.0 \tValidation Accuracy :  0.9598108747044918 \tTest Accuracy  0.744\n",
            "Train Accuracy :  1.0 \tValidation Accuracy :  0.9645390070921985 \tTest Accuracy  0.7445\n",
            "Avg Test Accuracy: 0.74\n",
            "Epoch 3/5 for C = 400\n",
            "Train Accuracy :  1.0 \tValidation Accuracy :  0.9626654064272212 \tTest Accuracy  0.7405\n",
            "Train Accuracy :  1.0 \tValidation Accuracy :  0.9584120982986768 \tTest Accuracy  0.746\n",
            "Train Accuracy :  1.0 \tValidation Accuracy :  0.9655009451795841 \tTest Accuracy  0.73\n",
            "Train Accuracy :  1.0 \tValidation Accuracy :  0.9602836879432625 \tTest Accuracy  0.7405\n",
            "Train Accuracy :  1.0 \tValidation Accuracy :  0.9607565011820332 \tTest Accuracy  0.745\n",
            "Avg Test Accuracy: 0.7404\n",
            "Epoch 4/5 for C = 410\n",
            "Train Accuracy :  1.0 \tValidation Accuracy :  0.9640831758034026 \tTest Accuracy  0.7385\n",
            "Train Accuracy :  1.0 \tValidation Accuracy :  0.9555765595463138 \tTest Accuracy  0.736\n",
            "Train Accuracy :  1.0 \tValidation Accuracy :  0.972117202268431 \tTest Accuracy  0.7385\n",
            "Train Accuracy :  1.0 \tValidation Accuracy :  0.9617021276595744 \tTest Accuracy  0.7325\n",
            "Train Accuracy :  1.0 \tValidation Accuracy :  0.9645390070921985 \tTest Accuracy  0.7415\n",
            "Avg Test Accuracy: 0.7374\n",
            "Epoch 5/5 for C = 420\n",
            "Train Accuracy :  1.0 \tValidation Accuracy :  0.9640831758034026 \tTest Accuracy  0.7365\n",
            "Train Accuracy :  1.0 \tValidation Accuracy :  0.9513232514177694 \tTest Accuracy  0.727\n",
            "Train Accuracy :  1.0 \tValidation Accuracy :  0.9669187145557656 \tTest Accuracy  0.735\n",
            "Train Accuracy :  1.0 \tValidation Accuracy :  0.9583924349881797 \tTest Accuracy  0.7425\n",
            "Train Accuracy :  1.0 \tValidation Accuracy :  0.9640661938534278 \tTest Accuracy  0.74\n",
            "Avg Test Accuracy: 0.7362\n",
            "Epoch 6/5 for C = 430\n",
            "Train Accuracy :  1.0 \tValidation Accuracy :  0.9626654064272212 \tTest Accuracy  0.7225\n",
            "Train Accuracy :  1.0 \tValidation Accuracy :  0.9541587901701323 \tTest Accuracy  0.7425\n",
            "Train Accuracy :  1.0 \tValidation Accuracy :  0.969281663516068 \tTest Accuracy  0.748\n",
            "Train Accuracy :  1.0 \tValidation Accuracy :  0.9588652482269504 \tTest Accuracy  0.7285\n",
            "Train Accuracy :  1.0 \tValidation Accuracy :  0.9626477541371158 \tTest Accuracy  0.756\n",
            "Avg Test Accuracy: 0.7394999999999999\n"
          ],
          "name": "stdout"
        }
      ]
    },
    {
      "cell_type": "code",
      "metadata": {
        "id": "eokp6JgK6jUn",
        "colab_type": "code",
        "colab": {
          "base_uri": "https://localhost:8080/",
          "height": 1000
        },
        "outputId": "45f6b858-6fbb-4412-f4ae-2c05d6bd9438"
      },
      "source": [
        "test_avg_acc_list = []\n",
        "j = 1\n",
        "for c in range(1,101,10):\n",
        "  RFC = RandomForestClassifier(n_estimators=270,max_depth=c)\n",
        "  val_accuracy_list = []\n",
        "  train_accuracy_list = []\n",
        "  test_acc_list = []\n",
        "  test_avg = 0\n",
        "  for train_index, val_index in kf.split(x_training):\n",
        "    #print(\"train = \",train_index,\"Val =\",val_index)\n",
        "    X_train, X_val = x_training[train_index], x_training[val_index]\n",
        "    y_train, y_val = y_training[train_index], y_training[val_index]\n",
        "    \n",
        "    RFC.fit(X_train, y_train)\n",
        "\n",
        "    y_val_pred = RFC.predict(X_val)\n",
        "    val_accuracy = accuracy_score(y_val, y_val_pred)\n",
        "    val_accuracy_list.append(val_accuracy)\n",
        "\n",
        "    y_train_pred = RFC.predict(X_train)\n",
        "    train_accuracy = accuracy_score(y_train, y_train_pred)\n",
        "    train_accuracy_list.append(train_accuracy)\n",
        "\n",
        "    y_test_pred = RFC.predict(x_test)\n",
        "    test_accuracy = accuracy_score(y_test, y_test_pred)\n",
        "    test_acc_list.append(test_accuracy)\n",
        "    test_avg = test_avg + test_accuracy\n",
        "  test_avg = test_avg/5\n",
        "  print(f\"Epoch {j}/{10} for C = {c}\")\n",
        "  j=j+1\n",
        "  for i in range(0, len(train_accuracy_list)):\n",
        "    print(\"Train Accuracy : \", train_accuracy_list[i], \"\\tValidation Accuracy : \", val_accuracy_list[i],\"\\tTest Accuracy \",test_acc_list[i])\n",
        "  print(\"Avg Test Accuracy:\",test_avg)"
      ],
      "execution_count": 17,
      "outputs": [
        {
          "output_type": "stream",
          "text": [
            "Epoch 1/10 for C = 1\n",
            "Train Accuracy :  0.7988655164263767 \tValidation Accuracy :  0.8024574669187146 \tTest Accuracy  0.6365\n",
            "Train Accuracy :  0.7650673599621839 \tValidation Accuracy :  0.7632325141776938 \tTest Accuracy  0.5985\n",
            "Train Accuracy :  0.7823209643110376 \tValidation Accuracy :  0.7764650283553876 \tTest Accuracy  0.6155\n",
            "Train Accuracy :  0.782228524164008 \tValidation Accuracy :  0.7829787234042553 \tTest Accuracy  0.597\n",
            "Train Accuracy :  0.7784473590925204 \tValidation Accuracy :  0.7725768321513002 \tTest Accuracy  0.619\n",
            "Avg Test Accuracy: 0.6133\n",
            "Epoch 2/10 for C = 11\n",
            "Train Accuracy :  0.9985818955329709 \tValidation Accuracy :  0.9588846880907372 \tTest Accuracy  0.7385\n",
            "Train Accuracy :  0.998345544788466 \tValidation Accuracy :  0.947069943289225 \tTest Accuracy  0.7335\n",
            "Train Accuracy :  0.9985818955329709 \tValidation Accuracy :  0.9584120982986768 \tTest Accuracy  0.7295\n",
            "Train Accuracy :  0.9982275788727402 \tValidation Accuracy :  0.9531914893617022 \tTest Accuracy  0.7345\n",
            "Train Accuracy :  0.9984639016897081 \tValidation Accuracy :  0.957919621749409 \tTest Accuracy  0.732\n",
            "Avg Test Accuracy: 0.7336\n",
            "Epoch 3/10 for C = 21\n",
            "Train Accuracy :  1.0 \tValidation Accuracy :  0.9631379962192816 \tTest Accuracy  0.736\n",
            "Train Accuracy :  1.0 \tValidation Accuracy :  0.9536862003780718 \tTest Accuracy  0.7445\n",
            "Train Accuracy :  1.0 \tValidation Accuracy :  0.9655009451795841 \tTest Accuracy  0.737\n",
            "Train Accuracy :  1.0 \tValidation Accuracy :  0.9607565011820332 \tTest Accuracy  0.741\n",
            "Train Accuracy :  1.0 \tValidation Accuracy :  0.9640661938534278 \tTest Accuracy  0.7425\n",
            "Avg Test Accuracy: 0.7402000000000001\n",
            "Epoch 4/10 for C = 31\n",
            "Train Accuracy :  1.0 \tValidation Accuracy :  0.9588846880907372 \tTest Accuracy  0.732\n",
            "Train Accuracy :  1.0 \tValidation Accuracy :  0.9536862003780718 \tTest Accuracy  0.737\n",
            "Train Accuracy :  1.0 \tValidation Accuracy :  0.9640831758034026 \tTest Accuracy  0.733\n",
            "Train Accuracy :  1.0 \tValidation Accuracy :  0.9617021276595744 \tTest Accuracy  0.725\n",
            "Train Accuracy :  1.0 \tValidation Accuracy :  0.9664302600472813 \tTest Accuracy  0.7265\n",
            "Avg Test Accuracy: 0.7307\n",
            "Epoch 5/10 for C = 41\n",
            "Train Accuracy :  1.0 \tValidation Accuracy :  0.9669187145557656 \tTest Accuracy  0.7435\n",
            "Train Accuracy :  1.0 \tValidation Accuracy :  0.9527410207939508 \tTest Accuracy  0.7325\n",
            "Train Accuracy :  1.0 \tValidation Accuracy :  0.9640831758034026 \tTest Accuracy  0.741\n",
            "Train Accuracy :  1.0 \tValidation Accuracy :  0.9583924349881797 \tTest Accuracy  0.719\n",
            "Train Accuracy :  1.0 \tValidation Accuracy :  0.9626477541371158 \tTest Accuracy  0.7265\n",
            "Avg Test Accuracy: 0.7325\n",
            "Epoch 6/10 for C = 51\n",
            "Train Accuracy :  1.0 \tValidation Accuracy :  0.9621928166351607 \tTest Accuracy  0.723\n",
            "Train Accuracy :  1.0 \tValidation Accuracy :  0.9546313799621928 \tTest Accuracy  0.737\n",
            "Train Accuracy :  1.0 \tValidation Accuracy :  0.9716446124763705 \tTest Accuracy  0.744\n",
            "Train Accuracy :  1.0 \tValidation Accuracy :  0.9583924349881797 \tTest Accuracy  0.7285\n",
            "Train Accuracy :  1.0 \tValidation Accuracy :  0.9650118203309692 \tTest Accuracy  0.737\n",
            "Avg Test Accuracy: 0.7339\n",
            "Epoch 7/10 for C = 61\n",
            "Train Accuracy :  1.0 \tValidation Accuracy :  0.9640831758034026 \tTest Accuracy  0.728\n",
            "Train Accuracy :  1.0 \tValidation Accuracy :  0.9517958412098299 \tTest Accuracy  0.7505\n",
            "Train Accuracy :  1.0 \tValidation Accuracy :  0.9688090737240076 \tTest Accuracy  0.738\n",
            "Train Accuracy :  1.0 \tValidation Accuracy :  0.9560283687943263 \tTest Accuracy  0.7535\n",
            "Train Accuracy :  1.0 \tValidation Accuracy :  0.9645390070921985 \tTest Accuracy  0.724\n",
            "Avg Test Accuracy: 0.7388\n",
            "Epoch 8/10 for C = 71\n",
            "Train Accuracy :  1.0 \tValidation Accuracy :  0.9593572778827977 \tTest Accuracy  0.7305\n",
            "Train Accuracy :  1.0 \tValidation Accuracy :  0.9569943289224953 \tTest Accuracy  0.7205\n",
            "Train Accuracy :  1.0 \tValidation Accuracy :  0.9678638941398866 \tTest Accuracy  0.7415\n",
            "Train Accuracy :  1.0 \tValidation Accuracy :  0.9546099290780142 \tTest Accuracy  0.731\n",
            "Train Accuracy :  1.0 \tValidation Accuracy :  0.9621749408983451 \tTest Accuracy  0.7375\n",
            "Avg Test Accuracy: 0.7322\n",
            "Epoch 9/10 for C = 81\n",
            "Train Accuracy :  1.0 \tValidation Accuracy :  0.9603024574669187 \tTest Accuracy  0.7315\n",
            "Train Accuracy :  1.0 \tValidation Accuracy :  0.9522684310018904 \tTest Accuracy  0.7295\n",
            "Train Accuracy :  1.0 \tValidation Accuracy :  0.9688090737240076 \tTest Accuracy  0.737\n",
            "Train Accuracy :  1.0 \tValidation Accuracy :  0.9612293144208038 \tTest Accuracy  0.742\n",
            "Train Accuracy :  1.0 \tValidation Accuracy :  0.9635933806146572 \tTest Accuracy  0.741\n",
            "Avg Test Accuracy: 0.7362\n",
            "Epoch 10/10 for C = 91\n",
            "Train Accuracy :  1.0 \tValidation Accuracy :  0.9584120982986768 \tTest Accuracy  0.743\n",
            "Train Accuracy :  1.0 \tValidation Accuracy :  0.9522684310018904 \tTest Accuracy  0.7385\n",
            "Train Accuracy :  1.0 \tValidation Accuracy :  0.968336483931947 \tTest Accuracy  0.7395\n",
            "Train Accuracy :  1.0 \tValidation Accuracy :  0.9588652482269504 \tTest Accuracy  0.7385\n",
            "Train Accuracy :  1.0 \tValidation Accuracy :  0.9626477541371158 \tTest Accuracy  0.7285\n",
            "Avg Test Accuracy: 0.7376\n"
          ],
          "name": "stdout"
        }
      ]
    }
  ]
}