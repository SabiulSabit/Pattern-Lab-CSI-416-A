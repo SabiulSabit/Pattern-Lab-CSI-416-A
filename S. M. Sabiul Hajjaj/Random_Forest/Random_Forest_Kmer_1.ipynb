{
  "nbformat": 4,
  "nbformat_minor": 0,
  "metadata": {
    "colab": {
      "name": "Random_Forest_Kmer-1ipynb",
      "provenance": []
    },
    "kernelspec": {
      "name": "python3",
      "display_name": "Python 3"
    }
  },
  "cells": [
    {
      "cell_type": "code",
      "metadata": {
        "id": "ajbUMeIsoZeD",
        "colab_type": "code",
        "colab": {}
      },
      "source": [
        "from sklearn.model_selection import train_test_split\n",
        "import numpy as np\n",
        "from sklearn.ensemble import RandomForestClassifier\n",
        "from sklearn.model_selection import KFold\n",
        "from sklearn.preprocessing import StandardScaler\n",
        "from sklearn.metrics import confusion_matrix,accuracy_score,classification_report"
      ],
      "execution_count": 1,
      "outputs": []
    },
    {
      "cell_type": "code",
      "metadata": {
        "id": "s3iErn_Voh5v",
        "colab_type": "code",
        "colab": {
          "base_uri": "https://localhost:8080/",
          "height": 34
        },
        "outputId": "07e4a4aa-d183-43d1-961e-2f5555eec4c7"
      },
      "source": [
        "from google.colab import drive\n",
        "drive.mount('/content/drive')"
      ],
      "execution_count": 2,
      "outputs": [
        {
          "output_type": "stream",
          "text": [
            "Drive already mounted at /content/drive; to attempt to forcibly remount, call drive.mount(\"/content/drive\", force_remount=True).\n"
          ],
          "name": "stdout"
        }
      ]
    },
    {
      "cell_type": "code",
      "metadata": {
        "id": "5WLOxD-Conui",
        "colab_type": "code",
        "colab": {
          "base_uri": "https://localhost:8080/",
          "height": 85
        },
        "outputId": "acb71b5d-dae6-425b-fe2b-dfb766cd01c3"
      },
      "source": [
        "pos_5289 = \"/content/drive/My Drive/npy File All/A.thaliana5289_pos.fasta-Kmer-1.npy\"\n",
        "neg_5289 = \"/content/drive/My Drive/npy File All/A.thaliana5289_neg.fasta-Kmer-1.npy\"\n",
        "pos_1000 = \"/content/drive/My Drive/npy File All/A.thaliana1000indep_pos-Kmer-1.npy\"\n",
        "neg_1000 = \"/content/drive/My Drive/npy File All/A.thaliana1000indep_neg.fasta-kmer-1.npy\"\n",
        "\n",
        "\n",
        "x_train_pos = np.load(pos_5289) \n",
        "x_train_neg = np.load(neg_5289) \n",
        "x_test_pos = np.load(pos_1000) \n",
        "x_test_neg = np.load(neg_1000) \n",
        "\n",
        "y_train_pos = np.tile(1, 5289) \n",
        "y_train_neg = np.tile(0, 5289) \n",
        "y_test_pos = np.tile(1, 1000) \n",
        "y_test_neg = np.tile(0, 1000)\n",
        "\n",
        "print(x_test_neg.shape)\n",
        "print(y_test_neg.shape)\n",
        "\n",
        "print(x_train_neg.shape)\n",
        "print(y_train_neg.shape)"
      ],
      "execution_count": 3,
      "outputs": [
        {
          "output_type": "stream",
          "text": [
            "(1000, 4)\n",
            "(1000,)\n",
            "(5289, 4)\n",
            "(5289,)\n"
          ],
          "name": "stdout"
        }
      ]
    },
    {
      "cell_type": "code",
      "metadata": {
        "id": "40vcx2RFoq7c",
        "colab_type": "code",
        "colab": {}
      },
      "source": [
        "x_training = np.concatenate((x_train_pos, x_train_neg), axis = 0)\n",
        "y_training = np.concatenate((y_train_pos, y_train_neg))\n",
        "\n",
        "x_test = np.concatenate((x_test_pos, x_test_neg), axis = 0)\n",
        "y_test = np.concatenate((y_test_pos, y_test_neg))"
      ],
      "execution_count": 4,
      "outputs": []
    },
    {
      "cell_type": "code",
      "metadata": {
        "id": "VIPa7rAeosTt",
        "colab_type": "code",
        "colab": {}
      },
      "source": [
        "X_train, X_val, Y_train, Y_val = train_test_split(x_training, y_training, test_size=0.25, random_state=0)"
      ],
      "execution_count": 5,
      "outputs": []
    },
    {
      "cell_type": "code",
      "metadata": {
        "id": "xQbb9h29oyM9",
        "colab_type": "code",
        "colab": {}
      },
      "source": [
        "seed = 100\n",
        "np.random.seed(seed)\n",
        "\n",
        "kf = KFold(n_splits=5, random_state=seed,shuffle=True)"
      ],
      "execution_count": 6,
      "outputs": []
    },
    {
      "cell_type": "code",
      "metadata": {
        "id": "9Yo5UwIno1KQ",
        "colab_type": "code",
        "colab": {
          "base_uri": "https://localhost:8080/",
          "height": 1000
        },
        "outputId": "26039f8b-eaeb-4ee6-c1a9-ad4f44a61b80"
      },
      "source": [
        "test_avg_acc_list = []\n",
        "j = 1\n",
        "for c in range(1,452,50):\n",
        "  RFC = RandomForestClassifier(n_estimators=c,max_depth=None)\n",
        "  val_accuracy_list = []\n",
        "  train_accuracy_list = []\n",
        "  test_acc_list = []\n",
        "  test_avg = 0\n",
        "  for train_index, val_index in kf.split(x_training):\n",
        "    X_train, X_val = x_training[train_index], x_training[val_index]\n",
        "    y_train, y_val = y_training[train_index], y_training[val_index]\n",
        "    \n",
        "    RFC.fit(X_train, y_train)\n",
        "\n",
        "    y_val_pred = RFC.predict(X_val)\n",
        "    val_accuracy = accuracy_score(y_val, y_val_pred)\n",
        "    val_accuracy_list.append(val_accuracy)\n",
        "\n",
        "    y_train_pred = RFC.predict(X_train)\n",
        "    train_accuracy = accuracy_score(y_train, y_train_pred)\n",
        "    train_accuracy_list.append(train_accuracy)\n",
        "\n",
        "    y_test_pred = RFC.predict(x_test)\n",
        "    test_accuracy = accuracy_score(y_test, y_test_pred)\n",
        "    test_acc_list.append(test_accuracy)\n",
        "    test_avg = test_avg + test_accuracy\n",
        "  test_avg = test_avg/5\n",
        "  print(f\"Epoch {j}/{10} for C = {c}\")\n",
        "  j=j+1\n",
        "  for i in range(0, len(train_accuracy_list)):\n",
        "    print(\"Train Accuracy : \", train_accuracy_list[i], \"\\tValidation Accuracy : \", val_accuracy_list[i],\"\\tTest Accuracy \",test_acc_list[i])\n",
        "  print(\"Avg Test Accuracy:\",test_avg)"
      ],
      "execution_count": 7,
      "outputs": [
        {
          "output_type": "stream",
          "text": [
            "Epoch 1/10 for C = 1\n",
            "Train Accuracy :  0.9761285748050106 \tValidation Accuracy :  0.918241965973535 \tTest Accuracy  0.5285\n",
            "Train Accuracy :  0.9776648546442921 \tValidation Accuracy :  0.9291115311909263 \tTest Accuracy  0.5475\n",
            "Train Accuracy :  0.9685653509808556 \tValidation Accuracy :  0.9040642722117203 \tTest Accuracy  0.494\n",
            "Train Accuracy :  0.9645515774548032 \tValidation Accuracy :  0.9134751773049645 \tTest Accuracy  0.503\n",
            "Train Accuracy :  0.9652605459057072 \tValidation Accuracy :  0.902127659574468 \tTest Accuracy  0.4985\n",
            "Avg Test Accuracy: 0.5143\n",
            "Epoch 2/10 for C = 51\n",
            "Train Accuracy :  1.0 \tValidation Accuracy :  0.9659735349716446 \tTest Accuracy  0.544\n",
            "Train Accuracy :  1.0 \tValidation Accuracy :  0.9607750472589792 \tTest Accuracy  0.5365\n",
            "Train Accuracy :  1.0 \tValidation Accuracy :  0.9640831758034026 \tTest Accuracy  0.522\n",
            "Train Accuracy :  1.0 \tValidation Accuracy :  0.9706855791962175 \tTest Accuracy  0.548\n",
            "Train Accuracy :  1.0 \tValidation Accuracy :  0.9702127659574468 \tTest Accuracy  0.5305\n",
            "Avg Test Accuracy: 0.5362\n",
            "Epoch 3/10 for C = 101\n",
            "Train Accuracy :  1.0 \tValidation Accuracy :  0.9645557655954632 \tTest Accuracy  0.5375\n",
            "Train Accuracy :  1.0 \tValidation Accuracy :  0.9655009451795841 \tTest Accuracy  0.539\n",
            "Train Accuracy :  1.0 \tValidation Accuracy :  0.9669187145557656 \tTest Accuracy  0.524\n",
            "Train Accuracy :  1.0 \tValidation Accuracy :  0.9697399527186761 \tTest Accuracy  0.54\n",
            "Train Accuracy :  1.0 \tValidation Accuracy :  0.9702127659574468 \tTest Accuracy  0.538\n",
            "Avg Test Accuracy: 0.5357000000000001\n",
            "Epoch 4/10 for C = 151\n",
            "Train Accuracy :  1.0 \tValidation Accuracy :  0.9659735349716446 \tTest Accuracy  0.5365\n",
            "Train Accuracy :  1.0 \tValidation Accuracy :  0.9664461247637051 \tTest Accuracy  0.5445\n",
            "Train Accuracy :  1.0 \tValidation Accuracy :  0.969281663516068 \tTest Accuracy  0.534\n",
            "Train Accuracy :  1.0 \tValidation Accuracy :  0.9697399527186761 \tTest Accuracy  0.538\n",
            "Train Accuracy :  1.0 \tValidation Accuracy :  0.9730496453900709 \tTest Accuracy  0.5385\n",
            "Avg Test Accuracy: 0.5383\n",
            "Epoch 5/10 for C = 201\n",
            "Train Accuracy :  1.0 \tValidation Accuracy :  0.9678638941398866 \tTest Accuracy  0.542\n",
            "Train Accuracy :  1.0 \tValidation Accuracy :  0.9617202268431002 \tTest Accuracy  0.542\n",
            "Train Accuracy :  1.0 \tValidation Accuracy :  0.9688090737240076 \tTest Accuracy  0.5295\n",
            "Train Accuracy :  1.0 \tValidation Accuracy :  0.968321513002364 \tTest Accuracy  0.5385\n",
            "Train Accuracy :  1.0 \tValidation Accuracy :  0.9711583924349881 \tTest Accuracy  0.5395\n",
            "Avg Test Accuracy: 0.5383\n",
            "Epoch 6/10 for C = 251\n",
            "Train Accuracy :  1.0 \tValidation Accuracy :  0.967391304347826 \tTest Accuracy  0.5415\n",
            "Train Accuracy :  1.0 \tValidation Accuracy :  0.9688090737240076 \tTest Accuracy  0.5335\n",
            "Train Accuracy :  1.0 \tValidation Accuracy :  0.9697542533081286 \tTest Accuracy  0.53\n",
            "Train Accuracy :  1.0 \tValidation Accuracy :  0.9678486997635933 \tTest Accuracy  0.5455\n",
            "Train Accuracy :  1.0 \tValidation Accuracy :  0.9730496453900709 \tTest Accuracy  0.537\n",
            "Avg Test Accuracy: 0.5375\n",
            "Epoch 7/10 for C = 301\n",
            "Train Accuracy :  1.0 \tValidation Accuracy :  0.968336483931947 \tTest Accuracy  0.539\n",
            "Train Accuracy :  1.0 \tValidation Accuracy :  0.9655009451795841 \tTest Accuracy  0.537\n",
            "Train Accuracy :  1.0 \tValidation Accuracy :  0.9678638941398866 \tTest Accuracy  0.5315\n",
            "Train Accuracy :  1.0 \tValidation Accuracy :  0.9697399527186761 \tTest Accuracy  0.542\n",
            "Train Accuracy :  1.0 \tValidation Accuracy :  0.9754137115839243 \tTest Accuracy  0.542\n",
            "Avg Test Accuracy: 0.5382999999999999\n",
            "Epoch 8/10 for C = 351\n",
            "Train Accuracy :  1.0 \tValidation Accuracy :  0.9688090737240076 \tTest Accuracy  0.5355\n",
            "Train Accuracy :  1.0 \tValidation Accuracy :  0.9659735349716446 \tTest Accuracy  0.539\n",
            "Train Accuracy :  1.0 \tValidation Accuracy :  0.9669187145557656 \tTest Accuracy  0.53\n",
            "Train Accuracy :  1.0 \tValidation Accuracy :  0.9687943262411347 \tTest Accuracy  0.54\n",
            "Train Accuracy :  1.0 \tValidation Accuracy :  0.9721040189125295 \tTest Accuracy  0.5355\n",
            "Avg Test Accuracy: 0.5359999999999999\n",
            "Epoch 9/10 for C = 401\n",
            "Train Accuracy :  1.0 \tValidation Accuracy :  0.9688090737240076 \tTest Accuracy  0.5425\n",
            "Train Accuracy :  1.0 \tValidation Accuracy :  0.9659735349716446 \tTest Accuracy  0.5355\n",
            "Train Accuracy :  1.0 \tValidation Accuracy :  0.9688090737240076 \tTest Accuracy  0.53\n",
            "Train Accuracy :  1.0 \tValidation Accuracy :  0.9673758865248226 \tTest Accuracy  0.54\n",
            "Train Accuracy :  1.0 \tValidation Accuracy :  0.9702127659574468 \tTest Accuracy  0.5365\n",
            "Avg Test Accuracy: 0.5368999999999999\n",
            "Epoch 10/10 for C = 451\n",
            "Train Accuracy :  1.0 \tValidation Accuracy :  0.9678638941398866 \tTest Accuracy  0.544\n",
            "Train Accuracy :  1.0 \tValidation Accuracy :  0.9645557655954632 \tTest Accuracy  0.5375\n",
            "Train Accuracy :  1.0 \tValidation Accuracy :  0.969281663516068 \tTest Accuracy  0.5325\n",
            "Train Accuracy :  1.0 \tValidation Accuracy :  0.9687943262411347 \tTest Accuracy  0.5365\n",
            "Train Accuracy :  1.0 \tValidation Accuracy :  0.9725768321513002 \tTest Accuracy  0.5375\n",
            "Avg Test Accuracy: 0.5376000000000001\n"
          ],
          "name": "stdout"
        }
      ]
    },
    {
      "cell_type": "code",
      "metadata": {
        "id": "aVqujLPko183",
        "colab_type": "code",
        "colab": {
          "base_uri": "https://localhost:8080/",
          "height": 612
        },
        "outputId": "46c2d87f-6d47-44c2-914a-fd2e47b001cf"
      },
      "source": [
        "test_avg_acc_list = []\n",
        "j = 1\n",
        "for c in range(285,335,10):\n",
        "  RFC = RandomForestClassifier(n_estimators=c,max_depth=None)\n",
        "  val_accuracy_list = []\n",
        "  train_accuracy_list = []\n",
        "  test_acc_list = []\n",
        "  test_avg = 0\n",
        "  for train_index, val_index in kf.split(x_training):\n",
        "    #print(\"train = \",train_index,\"Val =\",val_index)\n",
        "    X_train, X_val = x_training[train_index], x_training[val_index]\n",
        "    y_train, y_val = y_training[train_index], y_training[val_index]\n",
        "    \n",
        "    RFC.fit(X_train, y_train)\n",
        "\n",
        "    y_val_pred = RFC.predict(X_val)\n",
        "    val_accuracy = accuracy_score(y_val, y_val_pred)\n",
        "    val_accuracy_list.append(val_accuracy)\n",
        "\n",
        "    y_train_pred = RFC.predict(X_train)\n",
        "    train_accuracy = accuracy_score(y_train, y_train_pred)\n",
        "    train_accuracy_list.append(train_accuracy)\n",
        "\n",
        "    y_test_pred = RFC.predict(x_test)\n",
        "    test_accuracy = accuracy_score(y_test, y_test_pred)\n",
        "    test_acc_list.append(test_accuracy)\n",
        "    test_avg = test_avg + test_accuracy\n",
        "  test_avg = test_avg/5\n",
        "  print(f\"Epoch {j}/{5} for C = {c}\")\n",
        "  j=j+1\n",
        "  for i in range(0, len(train_accuracy_list)):\n",
        "    print(\"Train Accuracy : \", train_accuracy_list[i], \"\\tValidation Accuracy : \", val_accuracy_list[i],\"\\tTest Accuracy \",test_acc_list[i])\n",
        "  print(\"Avg Test Accuracy:\",test_avg)"
      ],
      "execution_count": 10,
      "outputs": [
        {
          "output_type": "stream",
          "text": [
            "Epoch 1/5 for C = 285\n",
            "Train Accuracy :  1.0 \tValidation Accuracy :  0.972117202268431 \tTest Accuracy  0.5385\n",
            "Train Accuracy :  1.0 \tValidation Accuracy :  0.9678638941398866 \tTest Accuracy  0.5365\n",
            "Train Accuracy :  1.0 \tValidation Accuracy :  0.9669187145557656 \tTest Accuracy  0.533\n",
            "Train Accuracy :  1.0 \tValidation Accuracy :  0.9678486997635933 \tTest Accuracy  0.5455\n",
            "Train Accuracy :  1.0 \tValidation Accuracy :  0.9706855791962175 \tTest Accuracy  0.535\n",
            "Avg Test Accuracy: 0.5377000000000001\n",
            "Epoch 2/5 for C = 295\n",
            "Train Accuracy :  1.0 \tValidation Accuracy :  0.9664461247637051 \tTest Accuracy  0.5375\n",
            "Train Accuracy :  1.0 \tValidation Accuracy :  0.9640831758034026 \tTest Accuracy  0.54\n",
            "Train Accuracy :  1.0 \tValidation Accuracy :  0.968336483931947 \tTest Accuracy  0.5305\n",
            "Train Accuracy :  1.0 \tValidation Accuracy :  0.9702127659574468 \tTest Accuracy  0.5435\n",
            "Train Accuracy :  1.0 \tValidation Accuracy :  0.9730496453900709 \tTest Accuracy  0.5405\n",
            "Avg Test Accuracy: 0.5384\n",
            "Epoch 3/5 for C = 305\n",
            "Train Accuracy :  1.0 \tValidation Accuracy :  0.9688090737240076 \tTest Accuracy  0.54\n",
            "Train Accuracy :  1.0 \tValidation Accuracy :  0.9669187145557656 \tTest Accuracy  0.5415\n",
            "Train Accuracy :  1.0 \tValidation Accuracy :  0.9669187145557656 \tTest Accuracy  0.53\n",
            "Train Accuracy :  1.0 \tValidation Accuracy :  0.9687943262411347 \tTest Accuracy  0.543\n",
            "Train Accuracy :  1.0 \tValidation Accuracy :  0.9730496453900709 \tTest Accuracy  0.538\n",
            "Avg Test Accuracy: 0.5385\n",
            "Epoch 4/5 for C = 315\n",
            "Train Accuracy :  1.0 \tValidation Accuracy :  0.9678638941398866 \tTest Accuracy  0.5355\n",
            "Train Accuracy :  1.0 \tValidation Accuracy :  0.9664461247637051 \tTest Accuracy  0.538\n",
            "Train Accuracy :  1.0 \tValidation Accuracy :  0.9669187145557656 \tTest Accuracy  0.531\n",
            "Train Accuracy :  1.0 \tValidation Accuracy :  0.968321513002364 \tTest Accuracy  0.5405\n",
            "Train Accuracy :  1.0 \tValidation Accuracy :  0.9730496453900709 \tTest Accuracy  0.5315\n",
            "Avg Test Accuracy: 0.5353000000000001\n",
            "Epoch 5/5 for C = 325\n",
            "Train Accuracy :  1.0 \tValidation Accuracy :  0.969281663516068 \tTest Accuracy  0.5415\n",
            "Train Accuracy :  1.0 \tValidation Accuracy :  0.9650283553875236 \tTest Accuracy  0.54\n",
            "Train Accuracy :  1.0 \tValidation Accuracy :  0.968336483931947 \tTest Accuracy  0.535\n",
            "Train Accuracy :  1.0 \tValidation Accuracy :  0.9687943262411347 \tTest Accuracy  0.5405\n",
            "Train Accuracy :  1.0 \tValidation Accuracy :  0.9711583924349881 \tTest Accuracy  0.536\n",
            "Avg Test Accuracy: 0.5386\n"
          ],
          "name": "stdout"
        }
      ]
    },
    {
      "cell_type": "code",
      "metadata": {
        "id": "Qm8CZ6-To5WZ",
        "colab_type": "code",
        "colab": {
          "base_uri": "https://localhost:8080/",
          "height": 1000
        },
        "outputId": "34db991e-64e9-4527-a7bd-2d4b9d476cae"
      },
      "source": [
        "test_avg_acc_list = []\n",
        "j = 1\n",
        "for c in range(1,101,10):\n",
        "  RFC = RandomForestClassifier(n_estimators=500,max_depth=c)\n",
        "  val_accuracy_list = []\n",
        "  train_accuracy_list = []\n",
        "  test_acc_list = []\n",
        "  test_avg = 0\n",
        "  for train_index, val_index in kf.split(x_training):\n",
        "    #print(\"train = \",train_index,\"Val =\",val_index)\n",
        "    X_train, X_val = x_training[train_index], x_training[val_index]\n",
        "    y_train, y_val = y_training[train_index], y_training[val_index]\n",
        "    \n",
        "    RFC.fit(X_train, y_train)\n",
        "\n",
        "    y_val_pred = RFC.predict(X_val)\n",
        "    val_accuracy = accuracy_score(y_val, y_val_pred)\n",
        "    val_accuracy_list.append(val_accuracy)\n",
        "\n",
        "    y_train_pred = RFC.predict(X_train)\n",
        "    train_accuracy = accuracy_score(y_train, y_train_pred)\n",
        "    train_accuracy_list.append(train_accuracy)\n",
        "\n",
        "    y_test_pred = RFC.predict(x_test)\n",
        "    test_accuracy = accuracy_score(y_test, y_test_pred)\n",
        "    test_acc_list.append(test_accuracy)\n",
        "    test_avg = test_avg + test_accuracy\n",
        "  test_avg = test_avg/5\n",
        "  print(f\"Epoch {j}/{10} for depth = {c}\")\n",
        "  j=j+1\n",
        "  for i in range(0, len(train_accuracy_list)):\n",
        "    print(\"Train Accuracy : \", train_accuracy_list[i], \"\\tValidation Accuracy : \", val_accuracy_list[i],\"\\tTest Accuracy \",test_acc_list[i])\n",
        "  print(\"Avg Test Accuracy:\",test_avg)"
      ],
      "execution_count": 9,
      "outputs": [
        {
          "output_type": "stream",
          "text": [
            "Epoch 1/10 for depth = 1\n",
            "Train Accuracy :  0.7305601512644765 \tValidation Accuracy :  0.7292060491493384 \tTest Accuracy  0.608\n",
            "Train Accuracy :  0.7333963601985346 \tValidation Accuracy :  0.7282608695652174 \tTest Accuracy  0.606\n",
            "Train Accuracy :  0.7247695580241078 \tValidation Accuracy :  0.7320415879017014 \tTest Accuracy  0.5985\n",
            "Train Accuracy :  0.7304738272480208 \tValidation Accuracy :  0.7319148936170212 \tTest Accuracy  0.608\n",
            "Train Accuracy :  0.7342549923195084 \tValidation Accuracy :  0.724822695035461 \tTest Accuracy  0.6025\n",
            "Avg Test Accuracy: 0.6046\n",
            "Epoch 2/10 for depth = 11\n",
            "Train Accuracy :  0.9556842354053415 \tValidation Accuracy :  0.9328922495274102 \tTest Accuracy  0.5515\n",
            "Train Accuracy :  0.9576932167336327 \tValidation Accuracy :  0.9300567107750473 \tTest Accuracy  0.552\n",
            "Train Accuracy :  0.9567478137556134 \tValidation Accuracy :  0.9310018903591682 \tTest Accuracy  0.5455\n",
            "Train Accuracy :  0.9608885737917996 \tValidation Accuracy :  0.9390070921985816 \tTest Accuracy  0.555\n",
            "Train Accuracy :  0.9580526999881839 \tValidation Accuracy :  0.933806146572104 \tTest Accuracy  0.5505\n",
            "Avg Test Accuracy: 0.5509000000000001\n",
            "Epoch 3/10 for depth = 21\n",
            "Train Accuracy :  1.0 \tValidation Accuracy :  0.9664461247637051 \tTest Accuracy  0.5405\n",
            "Train Accuracy :  1.0 \tValidation Accuracy :  0.9655009451795841 \tTest Accuracy  0.534\n",
            "Train Accuracy :  1.0 \tValidation Accuracy :  0.9669187145557656 \tTest Accuracy  0.5325\n",
            "Train Accuracy :  1.0 \tValidation Accuracy :  0.966903073286052 \tTest Accuracy  0.543\n",
            "Train Accuracy :  1.0 \tValidation Accuracy :  0.9721040189125295 \tTest Accuracy  0.5335\n",
            "Avg Test Accuracy: 0.5367\n",
            "Epoch 4/10 for depth = 31\n",
            "Train Accuracy :  1.0 \tValidation Accuracy :  0.9697542533081286 \tTest Accuracy  0.5425\n",
            "Train Accuracy :  1.0 \tValidation Accuracy :  0.9645557655954632 \tTest Accuracy  0.5345\n",
            "Train Accuracy :  1.0 \tValidation Accuracy :  0.9678638941398866 \tTest Accuracy  0.5315\n",
            "Train Accuracy :  1.0 \tValidation Accuracy :  0.9687943262411347 \tTest Accuracy  0.539\n",
            "Train Accuracy :  1.0 \tValidation Accuracy :  0.9730496453900709 \tTest Accuracy  0.536\n",
            "Avg Test Accuracy: 0.5367\n",
            "Epoch 5/10 for depth = 41\n",
            "Train Accuracy :  1.0 \tValidation Accuracy :  0.969281663516068 \tTest Accuracy  0.543\n",
            "Train Accuracy :  1.0 \tValidation Accuracy :  0.9640831758034026 \tTest Accuracy  0.536\n",
            "Train Accuracy :  1.0 \tValidation Accuracy :  0.967391304347826 \tTest Accuracy  0.5305\n",
            "Train Accuracy :  1.0 \tValidation Accuracy :  0.9702127659574468 \tTest Accuracy  0.542\n",
            "Train Accuracy :  1.0 \tValidation Accuracy :  0.9725768321513002 \tTest Accuracy  0.536\n",
            "Avg Test Accuracy: 0.5375000000000001\n",
            "Epoch 6/10 for depth = 51\n",
            "Train Accuracy :  1.0 \tValidation Accuracy :  0.9688090737240076 \tTest Accuracy  0.537\n",
            "Train Accuracy :  1.0 \tValidation Accuracy :  0.9655009451795841 \tTest Accuracy  0.538\n",
            "Train Accuracy :  1.0 \tValidation Accuracy :  0.9659735349716446 \tTest Accuracy  0.5325\n",
            "Train Accuracy :  1.0 \tValidation Accuracy :  0.9692671394799054 \tTest Accuracy  0.543\n",
            "Train Accuracy :  1.0 \tValidation Accuracy :  0.9725768321513002 \tTest Accuracy  0.5335\n",
            "Avg Test Accuracy: 0.5368\n",
            "Epoch 7/10 for depth = 61\n",
            "Train Accuracy :  1.0 \tValidation Accuracy :  0.968336483931947 \tTest Accuracy  0.54\n",
            "Train Accuracy :  1.0 \tValidation Accuracy :  0.9626654064272212 \tTest Accuracy  0.5385\n",
            "Train Accuracy :  1.0 \tValidation Accuracy :  0.967391304347826 \tTest Accuracy  0.533\n",
            "Train Accuracy :  1.0 \tValidation Accuracy :  0.9678486997635933 \tTest Accuracy  0.5425\n",
            "Train Accuracy :  1.0 \tValidation Accuracy :  0.9725768321513002 \tTest Accuracy  0.536\n",
            "Avg Test Accuracy: 0.538\n",
            "Epoch 8/10 for depth = 71\n",
            "Train Accuracy :  1.0 \tValidation Accuracy :  0.9659735349716446 \tTest Accuracy  0.537\n",
            "Train Accuracy :  1.0 \tValidation Accuracy :  0.9640831758034026 \tTest Accuracy  0.54\n",
            "Train Accuracy :  1.0 \tValidation Accuracy :  0.968336483931947 \tTest Accuracy  0.5295\n",
            "Train Accuracy :  1.0 \tValidation Accuracy :  0.9692671394799054 \tTest Accuracy  0.5465\n",
            "Train Accuracy :  1.0 \tValidation Accuracy :  0.9730496453900709 \tTest Accuracy  0.5375\n",
            "Avg Test Accuracy: 0.5381\n",
            "Epoch 9/10 for depth = 81\n",
            "Train Accuracy :  1.0 \tValidation Accuracy :  0.9697542533081286 \tTest Accuracy  0.5405\n",
            "Train Accuracy :  1.0 \tValidation Accuracy :  0.9669187145557656 \tTest Accuracy  0.538\n",
            "Train Accuracy :  1.0 \tValidation Accuracy :  0.969281663516068 \tTest Accuracy  0.5325\n",
            "Train Accuracy :  1.0 \tValidation Accuracy :  0.9702127659574468 \tTest Accuracy  0.542\n",
            "Train Accuracy :  1.0 \tValidation Accuracy :  0.9721040189125295 \tTest Accuracy  0.534\n",
            "Avg Test Accuracy: 0.5374000000000001\n",
            "Epoch 10/10 for depth = 91\n",
            "Train Accuracy :  1.0 \tValidation Accuracy :  0.967391304347826 \tTest Accuracy  0.5405\n",
            "Train Accuracy :  1.0 \tValidation Accuracy :  0.9664461247637051 \tTest Accuracy  0.534\n",
            "Train Accuracy :  1.0 \tValidation Accuracy :  0.9664461247637051 \tTest Accuracy  0.531\n",
            "Train Accuracy :  1.0 \tValidation Accuracy :  0.9678486997635933 \tTest Accuracy  0.539\n",
            "Train Accuracy :  1.0 \tValidation Accuracy :  0.9725768321513002 \tTest Accuracy  0.5375\n",
            "Avg Test Accuracy: 0.5364000000000001\n"
          ],
          "name": "stdout"
        }
      ]
    }
  ]
}