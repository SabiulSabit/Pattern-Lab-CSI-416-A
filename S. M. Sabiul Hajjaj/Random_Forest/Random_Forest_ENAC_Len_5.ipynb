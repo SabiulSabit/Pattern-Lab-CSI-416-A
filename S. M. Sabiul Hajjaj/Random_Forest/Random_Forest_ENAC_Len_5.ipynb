{
  "nbformat": 4,
  "nbformat_minor": 0,
  "metadata": {
    "colab": {
      "name": "Random_Forest_ENAC-Len-5.ipynb",
      "provenance": [],
      "collapsed_sections": []
    },
    "kernelspec": {
      "name": "python3",
      "display_name": "Python 3"
    }
  },
  "cells": [
    {
      "cell_type": "code",
      "metadata": {
        "id": "ajbUMeIsoZeD",
        "colab_type": "code",
        "colab": {}
      },
      "source": [
        "from sklearn.model_selection import train_test_split\n",
        "import numpy as np\n",
        "from sklearn.ensemble import RandomForestClassifier\n",
        "from sklearn.model_selection import KFold\n",
        "from sklearn.preprocessing import StandardScaler\n",
        "from sklearn.metrics import confusion_matrix,accuracy_score,classification_report"
      ],
      "execution_count": 2,
      "outputs": []
    },
    {
      "cell_type": "code",
      "metadata": {
        "id": "s3iErn_Voh5v",
        "colab_type": "code",
        "colab": {
          "base_uri": "https://localhost:8080/",
          "height": 34
        },
        "outputId": "50f9c42b-0659-4649-ac34-6b72f00181a7"
      },
      "source": [
        "from google.colab import drive\n",
        "drive.mount('/content/drive')"
      ],
      "execution_count": 3,
      "outputs": [
        {
          "output_type": "stream",
          "text": [
            "Mounted at /content/drive\n"
          ],
          "name": "stdout"
        }
      ]
    },
    {
      "cell_type": "code",
      "metadata": {
        "id": "5WLOxD-Conui",
        "colab_type": "code",
        "colab": {}
      },
      "source": [
        "pos_5289 = \"/content/drive/My Drive/npy File All/A.thaliana5289_pos.fasta-ENAC-Len-5.npy\"\n",
        "neg_5289 = \"/content/drive/My Drive/npy File All/A.thaliana5289_neg.fasta-ENAC-Len-5.npy\"\n",
        "pos_1000 = \"/content/drive/My Drive/npy File All/A.thaliana1000indep_pos-ENAC-Len-5.npy\"\n",
        "neg_1000 = \"/content/drive/My Drive/npy File All/A.thaliana1000indep_neg.fasta-ENAC-5.npy\"\n",
        "\n",
        "\n",
        "x_train_pos = np.load(pos_5289) \n",
        "x_train_neg = np.load(neg_5289) \n",
        "x_test_pos = np.load(pos_1000) \n",
        "x_test_neg = np.load(neg_1000) \n",
        "\n",
        "y_train_pos = np.tile(1, 5289) \n",
        "y_train_neg = np.tile(0, 5289) \n",
        "y_test_pos = np.tile(1, 1000) \n",
        "y_test_neg = np.tile(0, 1000)"
      ],
      "execution_count": 4,
      "outputs": []
    },
    {
      "cell_type": "code",
      "metadata": {
        "id": "40vcx2RFoq7c",
        "colab_type": "code",
        "colab": {}
      },
      "source": [
        "x_training = np.concatenate((x_train_pos, x_train_neg), axis = 0)\n",
        "y_training = np.concatenate((y_train_pos, y_train_neg))\n",
        "\n",
        "x_test = np.concatenate((x_test_pos, x_test_neg), axis = 0)\n",
        "y_test = np.concatenate((y_test_pos, y_test_neg))"
      ],
      "execution_count": 5,
      "outputs": []
    },
    {
      "cell_type": "code",
      "metadata": {
        "id": "VIPa7rAeosTt",
        "colab_type": "code",
        "colab": {}
      },
      "source": [
        "X_train, X_val, Y_train, Y_val = train_test_split(x_training, y_training, test_size=0.25, random_state=0)"
      ],
      "execution_count": 6,
      "outputs": []
    },
    {
      "cell_type": "code",
      "metadata": {
        "id": "xQbb9h29oyM9",
        "colab_type": "code",
        "colab": {}
      },
      "source": [
        "seed = 100\n",
        "np.random.seed(seed)\n",
        "\n",
        "kf = KFold(n_splits=5, random_state=seed,shuffle=True)"
      ],
      "execution_count": 7,
      "outputs": []
    },
    {
      "cell_type": "code",
      "metadata": {
        "id": "9Yo5UwIno1KQ",
        "colab_type": "code",
        "colab": {
          "base_uri": "https://localhost:8080/",
          "height": 1000
        },
        "outputId": "a4af797f-590d-4780-e0ff-b58f4708b528"
      },
      "source": [
        "test_avg_acc_list = []\n",
        "j = 1\n",
        "for c in range(1,452,50):\n",
        "  RFC = RandomForestClassifier(n_estimators=c,max_depth=None)\n",
        "  val_accuracy_list = []\n",
        "  train_accuracy_list = []\n",
        "  test_acc_list = []\n",
        "  test_avg = 0\n",
        "  for train_index, val_index in kf.split(x_training):\n",
        "    X_train, X_val = x_training[train_index], x_training[val_index]\n",
        "    y_train, y_val = y_training[train_index], y_training[val_index]\n",
        "    \n",
        "    RFC.fit(X_train, y_train)\n",
        "\n",
        "    y_val_pred = RFC.predict(X_val)\n",
        "    val_accuracy = accuracy_score(y_val, y_val_pred)\n",
        "    val_accuracy_list.append(val_accuracy)\n",
        "\n",
        "    y_train_pred = RFC.predict(X_train)\n",
        "    train_accuracy = accuracy_score(y_train, y_train_pred)\n",
        "    train_accuracy_list.append(train_accuracy)\n",
        "\n",
        "    y_test_pred = RFC.predict(x_test)\n",
        "    test_accuracy = accuracy_score(y_test, y_test_pred)\n",
        "    test_acc_list.append(test_accuracy)\n",
        "    test_avg = test_avg + test_accuracy\n",
        "  test_avg = test_avg/5\n",
        "  print(f\"Epoch {j}/{10} for C = {c}\")\n",
        "  j=j+1\n",
        "  for i in range(0, len(train_accuracy_list)):\n",
        "    print(\"Train Accuracy : \", train_accuracy_list[i], \"\\tValidation Accuracy : \", val_accuracy_list[i],\"\\tTest Accuracy \",test_acc_list[i])\n",
        "  print(\"Avg Test Accuracy:\",test_avg)"
      ],
      "execution_count": 11,
      "outputs": [
        {
          "output_type": "stream",
          "text": [
            "Epoch 1/10 for C = 1\n",
            "Train Accuracy :  0.9098321909714016 \tValidation Accuracy :  0.753780718336484 \tTest Accuracy  0.595\n",
            "Train Accuracy :  0.9160954857007799 \tValidation Accuracy :  0.7764650283553876 \tTest Accuracy  0.4785\n",
            "Train Accuracy :  0.9233041834081778 \tValidation Accuracy :  0.7830812854442344 \tTest Accuracy  0.5225\n",
            "Train Accuracy :  0.9158690771593997 \tValidation Accuracy :  0.7588652482269503 \tTest Accuracy  0.5195\n",
            "Train Accuracy :  0.9176414982866595 \tValidation Accuracy :  0.76548463356974 \tTest Accuracy  0.5525\n",
            "Avg Test Accuracy: 0.5336000000000001\n",
            "Epoch 2/10 for C = 51\n",
            "Train Accuracy :  1.0 \tValidation Accuracy :  0.9659735349716446 \tTest Accuracy  0.7065\n",
            "Train Accuracy :  1.0 \tValidation Accuracy :  0.9617202268431002 \tTest Accuracy  0.71\n",
            "Train Accuracy :  0.9998818246277476 \tValidation Accuracy :  0.9565217391304348 \tTest Accuracy  0.7025\n",
            "Train Accuracy :  1.0 \tValidation Accuracy :  0.9607565011820332 \tTest Accuracy  0.729\n",
            "Train Accuracy :  1.0 \tValidation Accuracy :  0.9593380614657211 \tTest Accuracy  0.702\n",
            "Avg Test Accuracy: 0.7100000000000001\n",
            "Epoch 3/10 for C = 101\n",
            "Train Accuracy :  1.0 \tValidation Accuracy :  0.970226843100189 \tTest Accuracy  0.714\n",
            "Train Accuracy :  1.0 \tValidation Accuracy :  0.9650283553875236 \tTest Accuracy  0.702\n",
            "Train Accuracy :  1.0 \tValidation Accuracy :  0.9655009451795841 \tTest Accuracy  0.7125\n",
            "Train Accuracy :  1.0 \tValidation Accuracy :  0.9692671394799054 \tTest Accuracy  0.7055\n",
            "Train Accuracy :  1.0 \tValidation Accuracy :  0.957919621749409 \tTest Accuracy  0.701\n",
            "Avg Test Accuracy: 0.707\n",
            "Epoch 4/10 for C = 151\n",
            "Train Accuracy :  1.0 \tValidation Accuracy :  0.9706994328922496 \tTest Accuracy  0.722\n",
            "Train Accuracy :  1.0 \tValidation Accuracy :  0.97117202268431 \tTest Accuracy  0.728\n",
            "Train Accuracy :  1.0 \tValidation Accuracy :  0.9706994328922496 \tTest Accuracy  0.712\n",
            "Train Accuracy :  1.0 \tValidation Accuracy :  0.9645390070921985 \tTest Accuracy  0.7145\n",
            "Train Accuracy :  1.0 \tValidation Accuracy :  0.9687943262411347 \tTest Accuracy  0.7115\n",
            "Avg Test Accuracy: 0.7176\n",
            "Epoch 5/10 for C = 201\n",
            "Train Accuracy :  1.0 \tValidation Accuracy :  0.970226843100189 \tTest Accuracy  0.732\n",
            "Train Accuracy :  1.0 \tValidation Accuracy :  0.970226843100189 \tTest Accuracy  0.7275\n",
            "Train Accuracy :  1.0 \tValidation Accuracy :  0.9697542533081286 \tTest Accuracy  0.7255\n",
            "Train Accuracy :  1.0 \tValidation Accuracy :  0.9687943262411347 \tTest Accuracy  0.722\n",
            "Train Accuracy :  1.0 \tValidation Accuracy :  0.9692671394799054 \tTest Accuracy  0.7075\n",
            "Avg Test Accuracy: 0.7229\n",
            "Epoch 6/10 for C = 251\n",
            "Train Accuracy :  1.0 \tValidation Accuracy :  0.973062381852552 \tTest Accuracy  0.7295\n",
            "Train Accuracy :  1.0 \tValidation Accuracy :  0.9697542533081286 \tTest Accuracy  0.7315\n",
            "Train Accuracy :  1.0 \tValidation Accuracy :  0.9645557655954632 \tTest Accuracy  0.7275\n",
            "Train Accuracy :  1.0 \tValidation Accuracy :  0.966903073286052 \tTest Accuracy  0.7375\n",
            "Train Accuracy :  1.0 \tValidation Accuracy :  0.966903073286052 \tTest Accuracy  0.722\n",
            "Avg Test Accuracy: 0.7296\n",
            "Epoch 7/10 for C = 301\n",
            "Train Accuracy :  1.0 \tValidation Accuracy :  0.9706994328922496 \tTest Accuracy  0.745\n",
            "Train Accuracy :  1.0 \tValidation Accuracy :  0.9697542533081286 \tTest Accuracy  0.738\n",
            "Train Accuracy :  1.0 \tValidation Accuracy :  0.9716446124763705 \tTest Accuracy  0.7325\n",
            "Train Accuracy :  1.0 \tValidation Accuracy :  0.9702127659574468 \tTest Accuracy  0.7385\n",
            "Train Accuracy :  1.0 \tValidation Accuracy :  0.9730496453900709 \tTest Accuracy  0.726\n",
            "Avg Test Accuracy: 0.736\n",
            "Epoch 8/10 for C = 351\n",
            "Train Accuracy :  1.0 \tValidation Accuracy :  0.9735349716446124 \tTest Accuracy  0.726\n",
            "Train Accuracy :  1.0 \tValidation Accuracy :  0.972117202268431 \tTest Accuracy  0.7405\n",
            "Train Accuracy :  1.0 \tValidation Accuracy :  0.968336483931947 \tTest Accuracy  0.726\n",
            "Train Accuracy :  1.0 \tValidation Accuracy :  0.9725768321513002 \tTest Accuracy  0.729\n",
            "Train Accuracy :  1.0 \tValidation Accuracy :  0.9716312056737588 \tTest Accuracy  0.7145\n",
            "Avg Test Accuracy: 0.7272000000000001\n",
            "Epoch 9/10 for C = 401\n",
            "Train Accuracy :  1.0 \tValidation Accuracy :  0.97117202268431 \tTest Accuracy  0.7245\n",
            "Train Accuracy :  1.0 \tValidation Accuracy :  0.9706994328922496 \tTest Accuracy  0.73\n",
            "Train Accuracy :  1.0 \tValidation Accuracy :  0.970226843100189 \tTest Accuracy  0.7285\n",
            "Train Accuracy :  1.0 \tValidation Accuracy :  0.9716312056737588 \tTest Accuracy  0.7385\n",
            "Train Accuracy :  1.0 \tValidation Accuracy :  0.9721040189125295 \tTest Accuracy  0.7295\n",
            "Avg Test Accuracy: 0.7302\n",
            "Epoch 10/10 for C = 451\n",
            "Train Accuracy :  1.0 \tValidation Accuracy :  0.9716446124763705 \tTest Accuracy  0.73\n",
            "Train Accuracy :  1.0 \tValidation Accuracy :  0.972117202268431 \tTest Accuracy  0.7425\n",
            "Train Accuracy :  1.0 \tValidation Accuracy :  0.970226843100189 \tTest Accuracy  0.735\n",
            "Train Accuracy :  1.0 \tValidation Accuracy :  0.9716312056737588 \tTest Accuracy  0.743\n",
            "Train Accuracy :  1.0 \tValidation Accuracy :  0.9744680851063829 \tTest Accuracy  0.713\n",
            "Avg Test Accuracy: 0.7327\n"
          ],
          "name": "stdout"
        }
      ]
    },
    {
      "cell_type": "code",
      "metadata": {
        "id": "aVqujLPko183",
        "colab_type": "code",
        "colab": {
          "base_uri": "https://localhost:8080/",
          "height": 612
        },
        "outputId": "e41f4f52-7d9c-4324-93c7-0a40a5782f2b"
      },
      "source": [
        "test_avg_acc_list = []\n",
        "j = 1\n",
        "for c in range(285,335,10):\n",
        "  RFC = RandomForestClassifier(n_estimators=c,max_depth=None)\n",
        "  val_accuracy_list = []\n",
        "  train_accuracy_list = []\n",
        "  test_acc_list = []\n",
        "  test_avg = 0\n",
        "  for train_index, val_index in kf.split(x_training):\n",
        "    #print(\"train = \",train_index,\"Val =\",val_index)\n",
        "    X_train, X_val = x_training[train_index], x_training[val_index]\n",
        "    y_train, y_val = y_training[train_index], y_training[val_index]\n",
        "    \n",
        "    RFC.fit(X_train, y_train)\n",
        "\n",
        "    y_val_pred = RFC.predict(X_val)\n",
        "    val_accuracy = accuracy_score(y_val, y_val_pred)\n",
        "    val_accuracy_list.append(val_accuracy)\n",
        "\n",
        "    y_train_pred = RFC.predict(X_train)\n",
        "    train_accuracy = accuracy_score(y_train, y_train_pred)\n",
        "    train_accuracy_list.append(train_accuracy)\n",
        "\n",
        "    y_test_pred = RFC.predict(x_test)\n",
        "    test_accuracy = accuracy_score(y_test, y_test_pred)\n",
        "    test_acc_list.append(test_accuracy)\n",
        "    test_avg = test_avg + test_accuracy\n",
        "  test_avg = test_avg/5\n",
        "  print(f\"Epoch {j}/{5} for C = {c}\")\n",
        "  j=j+1\n",
        "  for i in range(0, len(train_accuracy_list)):\n",
        "    print(\"Train Accuracy : \", train_accuracy_list[i], \"\\tValidation Accuracy : \", val_accuracy_list[i],\"\\tTest Accuracy \",test_acc_list[i])\n",
        "  print(\"Avg Test Accuracy:\",test_avg)"
      ],
      "execution_count": 15,
      "outputs": [
        {
          "output_type": "stream",
          "text": [
            "Epoch 1/5 for C = 285\n",
            "Train Accuracy :  1.0 \tValidation Accuracy :  0.972117202268431 \tTest Accuracy  0.7355\n",
            "Train Accuracy :  1.0 \tValidation Accuracy :  0.968336483931947 \tTest Accuracy  0.7215\n",
            "Train Accuracy :  1.0 \tValidation Accuracy :  0.9697542533081286 \tTest Accuracy  0.7455\n",
            "Train Accuracy :  1.0 \tValidation Accuracy :  0.9654846335697399 \tTest Accuracy  0.73\n",
            "Train Accuracy :  1.0 \tValidation Accuracy :  0.9678486997635933 \tTest Accuracy  0.739\n",
            "Avg Test Accuracy: 0.7343\n",
            "Epoch 2/5 for C = 295\n",
            "Train Accuracy :  1.0 \tValidation Accuracy :  0.973062381852552 \tTest Accuracy  0.723\n",
            "Train Accuracy :  1.0 \tValidation Accuracy :  0.9725897920604915 \tTest Accuracy  0.7405\n",
            "Train Accuracy :  1.0 \tValidation Accuracy :  0.970226843100189 \tTest Accuracy  0.726\n",
            "Train Accuracy :  1.0 \tValidation Accuracy :  0.9711583924349881 \tTest Accuracy  0.721\n",
            "Train Accuracy :  1.0 \tValidation Accuracy :  0.9735224586288416 \tTest Accuracy  0.732\n",
            "Avg Test Accuracy: 0.7285\n",
            "Epoch 3/5 for C = 305\n",
            "Train Accuracy :  1.0 \tValidation Accuracy :  0.974007561436673 \tTest Accuracy  0.7315\n",
            "Train Accuracy :  1.0 \tValidation Accuracy :  0.9716446124763705 \tTest Accuracy  0.7215\n",
            "Train Accuracy :  1.0 \tValidation Accuracy :  0.9725897920604915 \tTest Accuracy  0.7265\n",
            "Train Accuracy :  1.0 \tValidation Accuracy :  0.9692671394799054 \tTest Accuracy  0.7405\n",
            "Train Accuracy :  1.0 \tValidation Accuracy :  0.968321513002364 \tTest Accuracy  0.7365\n",
            "Avg Test Accuracy: 0.7313\n",
            "Epoch 4/5 for C = 315\n",
            "Train Accuracy :  1.0 \tValidation Accuracy :  0.97117202268431 \tTest Accuracy  0.7365\n",
            "Train Accuracy :  1.0 \tValidation Accuracy :  0.97117202268431 \tTest Accuracy  0.728\n",
            "Train Accuracy :  1.0 \tValidation Accuracy :  0.973062381852552 \tTest Accuracy  0.7365\n",
            "Train Accuracy :  1.0 \tValidation Accuracy :  0.9716312056737588 \tTest Accuracy  0.7365\n",
            "Train Accuracy :  1.0 \tValidation Accuracy :  0.9716312056737588 \tTest Accuracy  0.7345\n",
            "Avg Test Accuracy: 0.7344\n",
            "Epoch 5/5 for C = 325\n",
            "Train Accuracy :  1.0 \tValidation Accuracy :  0.97117202268431 \tTest Accuracy  0.7175\n",
            "Train Accuracy :  1.0 \tValidation Accuracy :  0.974007561436673 \tTest Accuracy  0.738\n",
            "Train Accuracy :  1.0 \tValidation Accuracy :  0.970226843100189 \tTest Accuracy  0.744\n",
            "Train Accuracy :  1.0 \tValidation Accuracy :  0.968321513002364 \tTest Accuracy  0.737\n",
            "Train Accuracy :  1.0 \tValidation Accuracy :  0.968321513002364 \tTest Accuracy  0.7325\n",
            "Avg Test Accuracy: 0.7338\n"
          ],
          "name": "stdout"
        }
      ]
    },
    {
      "cell_type": "code",
      "metadata": {
        "id": "Qm8CZ6-To5WZ",
        "colab_type": "code",
        "colab": {
          "base_uri": "https://localhost:8080/",
          "height": 1000
        },
        "outputId": "86c5613e-fcde-480c-dd93-90c081b4007e"
      },
      "source": [
        "test_avg_acc_list = []\n",
        "j = 1\n",
        "for c in range(1,101,10):\n",
        "  RFC = RandomForestClassifier(n_estimators=500,max_depth=c)\n",
        "  val_accuracy_list = []\n",
        "  train_accuracy_list = []\n",
        "  test_acc_list = []\n",
        "  test_avg = 0\n",
        "  for train_index, val_index in kf.split(x_training):\n",
        "    #print(\"train = \",train_index,\"Val =\",val_index)\n",
        "    X_train, X_val = x_training[train_index], x_training[val_index]\n",
        "    y_train, y_val = y_training[train_index], y_training[val_index]\n",
        "    \n",
        "    RFC.fit(X_train, y_train)\n",
        "\n",
        "    y_val_pred = RFC.predict(X_val)\n",
        "    val_accuracy = accuracy_score(y_val, y_val_pred)\n",
        "    val_accuracy_list.append(val_accuracy)\n",
        "\n",
        "    y_train_pred = RFC.predict(X_train)\n",
        "    train_accuracy = accuracy_score(y_train, y_train_pred)\n",
        "    train_accuracy_list.append(train_accuracy)\n",
        "\n",
        "    y_test_pred = RFC.predict(x_test)\n",
        "    test_accuracy = accuracy_score(y_test, y_test_pred)\n",
        "    test_acc_list.append(test_accuracy)\n",
        "    test_avg = test_avg + test_accuracy\n",
        "  test_avg = test_avg/5\n",
        "  print(f\"Epoch {j}/{10} for depth = {c}\")\n",
        "  j=j+1\n",
        "  for i in range(0, len(train_accuracy_list)):\n",
        "    print(\"Train Accuracy : \", train_accuracy_list[i], \"\\tValidation Accuracy : \", val_accuracy_list[i],\"\\tTest Accuracy \",test_acc_list[i])\n",
        "  print(\"Avg Test Accuracy:\",test_avg)"
      ],
      "execution_count": 14,
      "outputs": [
        {
          "output_type": "stream",
          "text": [
            "Epoch 1/10 for depth = 1\n",
            "Train Accuracy :  0.7676672181517372 \tValidation Accuracy :  0.7514177693761814 \tTest Accuracy  0.603\n",
            "Train Accuracy :  0.7556133301819901 \tValidation Accuracy :  0.755671077504726 \tTest Accuracy  0.6125\n",
            "Train Accuracy :  0.7700307255967856 \tValidation Accuracy :  0.7637051039697542 \tTest Accuracy  0.617\n",
            "Train Accuracy :  0.7661585726101855 \tValidation Accuracy :  0.7692671394799054 \tTest Accuracy  0.6265\n",
            "Train Accuracy :  0.7623774075386979 \tValidation Accuracy :  0.7659574468085106 \tTest Accuracy  0.614\n",
            "Avg Test Accuracy: 0.6146\n",
            "Epoch 2/10 for depth = 11\n",
            "Train Accuracy :  0.9990545970219806 \tValidation Accuracy :  0.970226843100189 \tTest Accuracy  0.734\n",
            "Train Accuracy :  0.9990545970219806 \tValidation Accuracy :  0.9650283553875236 \tTest Accuracy  0.7445\n",
            "Train Accuracy :  0.9989364216497282 \tValidation Accuracy :  0.9655009451795841 \tTest Accuracy  0.7125\n",
            "Train Accuracy :  0.9991728701406121 \tValidation Accuracy :  0.966903073286052 \tTest Accuracy  0.731\n",
            "Train Accuracy :  0.99940919295758 \tValidation Accuracy :  0.9697399527186761 \tTest Accuracy  0.715\n",
            "Avg Test Accuracy: 0.7273999999999999\n",
            "Epoch 3/10 for depth = 21\n",
            "Train Accuracy :  1.0 \tValidation Accuracy :  0.968336483931947 \tTest Accuracy  0.7415\n",
            "Train Accuracy :  1.0 \tValidation Accuracy :  0.968336483931947 \tTest Accuracy  0.726\n",
            "Train Accuracy :  1.0 \tValidation Accuracy :  0.970226843100189 \tTest Accuracy  0.735\n",
            "Train Accuracy :  1.0 \tValidation Accuracy :  0.9711583924349881 \tTest Accuracy  0.737\n",
            "Train Accuracy :  1.0 \tValidation Accuracy :  0.9692671394799054 \tTest Accuracy  0.7285\n",
            "Avg Test Accuracy: 0.7336\n",
            "Epoch 4/10 for depth = 31\n",
            "Train Accuracy :  1.0 \tValidation Accuracy :  0.9716446124763705 \tTest Accuracy  0.734\n",
            "Train Accuracy :  1.0 \tValidation Accuracy :  0.970226843100189 \tTest Accuracy  0.7305\n",
            "Train Accuracy :  1.0 \tValidation Accuracy :  0.9716446124763705 \tTest Accuracy  0.7375\n",
            "Train Accuracy :  1.0 \tValidation Accuracy :  0.9697399527186761 \tTest Accuracy  0.7365\n",
            "Train Accuracy :  1.0 \tValidation Accuracy :  0.9721040189125295 \tTest Accuracy  0.7355\n",
            "Avg Test Accuracy: 0.7348\n",
            "Epoch 5/10 for depth = 41\n",
            "Train Accuracy :  1.0 \tValidation Accuracy :  0.969281663516068 \tTest Accuracy  0.7375\n",
            "Train Accuracy :  1.0 \tValidation Accuracy :  0.969281663516068 \tTest Accuracy  0.7455\n",
            "Train Accuracy :  1.0 \tValidation Accuracy :  0.969281663516068 \tTest Accuracy  0.7215\n",
            "Train Accuracy :  1.0 \tValidation Accuracy :  0.9697399527186761 \tTest Accuracy  0.736\n",
            "Train Accuracy :  1.0 \tValidation Accuracy :  0.9716312056737588 \tTest Accuracy  0.7345\n",
            "Avg Test Accuracy: 0.7350000000000001\n",
            "Epoch 6/10 for depth = 51\n",
            "Train Accuracy :  1.0 \tValidation Accuracy :  0.97117202268431 \tTest Accuracy  0.724\n",
            "Train Accuracy :  1.0 \tValidation Accuracy :  0.967391304347826 \tTest Accuracy  0.7405\n",
            "Train Accuracy :  1.0 \tValidation Accuracy :  0.9725897920604915 \tTest Accuracy  0.7245\n",
            "Train Accuracy :  1.0 \tValidation Accuracy :  0.9716312056737588 \tTest Accuracy  0.725\n",
            "Train Accuracy :  1.0 \tValidation Accuracy :  0.9697399527186761 \tTest Accuracy  0.7285\n",
            "Avg Test Accuracy: 0.7285\n",
            "Epoch 7/10 for depth = 61\n",
            "Train Accuracy :  1.0 \tValidation Accuracy :  0.9754253308128544 \tTest Accuracy  0.717\n",
            "Train Accuracy :  1.0 \tValidation Accuracy :  0.970226843100189 \tTest Accuracy  0.7375\n",
            "Train Accuracy :  1.0 \tValidation Accuracy :  0.969281663516068 \tTest Accuracy  0.725\n",
            "Train Accuracy :  1.0 \tValidation Accuracy :  0.9702127659574468 \tTest Accuracy  0.7315\n",
            "Train Accuracy :  1.0 \tValidation Accuracy :  0.9735224586288416 \tTest Accuracy  0.7285\n",
            "Avg Test Accuracy: 0.7279\n",
            "Epoch 8/10 for depth = 71\n",
            "Train Accuracy :  1.0 \tValidation Accuracy :  0.9706994328922496 \tTest Accuracy  0.73\n",
            "Train Accuracy :  1.0 \tValidation Accuracy :  0.9706994328922496 \tTest Accuracy  0.7345\n",
            "Train Accuracy :  1.0 \tValidation Accuracy :  0.972117202268431 \tTest Accuracy  0.7355\n",
            "Train Accuracy :  1.0 \tValidation Accuracy :  0.9692671394799054 \tTest Accuracy  0.7315\n",
            "Train Accuracy :  1.0 \tValidation Accuracy :  0.9725768321513002 \tTest Accuracy  0.7405\n",
            "Avg Test Accuracy: 0.7344\n",
            "Epoch 9/10 for depth = 81\n",
            "Train Accuracy :  1.0 \tValidation Accuracy :  0.9688090737240076 \tTest Accuracy  0.728\n",
            "Train Accuracy :  1.0 \tValidation Accuracy :  0.9688090737240076 \tTest Accuracy  0.7365\n",
            "Train Accuracy :  1.0 \tValidation Accuracy :  0.969281663516068 \tTest Accuracy  0.7385\n",
            "Train Accuracy :  1.0 \tValidation Accuracy :  0.9697399527186761 \tTest Accuracy  0.7225\n",
            "Train Accuracy :  1.0 \tValidation Accuracy :  0.9716312056737588 \tTest Accuracy  0.7275\n",
            "Avg Test Accuracy: 0.7306000000000001\n",
            "Epoch 10/10 for depth = 91\n",
            "Train Accuracy :  1.0 \tValidation Accuracy :  0.97117202268431 \tTest Accuracy  0.7325\n",
            "Train Accuracy :  1.0 \tValidation Accuracy :  0.9697542533081286 \tTest Accuracy  0.735\n",
            "Train Accuracy :  1.0 \tValidation Accuracy :  0.9706994328922496 \tTest Accuracy  0.7295\n",
            "Train Accuracy :  1.0 \tValidation Accuracy :  0.9716312056737588 \tTest Accuracy  0.7395\n",
            "Train Accuracy :  1.0 \tValidation Accuracy :  0.9735224586288416 \tTest Accuracy  0.7265\n",
            "Avg Test Accuracy: 0.7326\n"
          ],
          "name": "stdout"
        }
      ]
    }
  ]
}